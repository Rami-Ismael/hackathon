{
 "cells": [
  {
   "cell_type": "markdown",
   "metadata": {},
   "source": [
    "# Import the LangChain Libraries"
   ]
  },
  {
   "cell_type": "code",
   "execution_count": 1,
   "metadata": {},
   "outputs": [
    {
     "name": "stdout",
     "output_type": "stream",
     "text": [
      "Collecting langchain\n",
      "  Using cached langchain-0.0.27-py3-none-any.whl (124 kB)\n",
      "Collecting pydantic\n",
      "  Downloading pydantic-1.10.7-cp37-cp37m-manylinux_2_17_x86_64.manylinux2014_x86_64.whl (3.1 MB)\n",
      "\u001b[2K     \u001b[38;2;114;156;31m━━━━━━━━━━━━━━━━━━━━━━━━━━━━━━━━━━━━━━━━\u001b[0m \u001b[32m3.1/3.1 MB\u001b[0m \u001b[31m3.8 MB/s\u001b[0m eta \u001b[36m0:00:00\u001b[0mm eta \u001b[36m0:00:01\u001b[0m[36m0:00:01\u001b[0m\n",
      "\u001b[?25hRequirement already satisfied: pyyaml in /home/null/miniconda3/envs/google-colab/lib/python3.7/site-packages (from langchain) (6.0)\n",
      "Collecting sqlalchemy\n",
      "  Downloading SQLAlchemy-2.0.7-cp37-cp37m-manylinux_2_17_x86_64.manylinux2014_x86_64.whl (2.7 MB)\n",
      "\u001b[2K     \u001b[38;2;114;156;31m━━━━━━━━━━━━━━━━━━━━━━━━━━━━━━━━━━━━━━━━\u001b[0m \u001b[32m2.7/2.7 MB\u001b[0m \u001b[31m4.6 MB/s\u001b[0m eta \u001b[36m0:00:00\u001b[0mm eta \u001b[36m0:00:01\u001b[0m0:01\u001b[0m:01\u001b[0m\n",
      "\u001b[?25hRequirement already satisfied: numpy in /home/null/miniconda3/envs/google-colab/lib/python3.7/site-packages (from langchain) (1.21.6)\n",
      "Requirement already satisfied: requests in /home/null/miniconda3/envs/google-colab/lib/python3.7/site-packages (from langchain) (2.28.1)\n",
      "Requirement already satisfied: typing-extensions>=4.2.0 in /home/null/miniconda3/envs/google-colab/lib/python3.7/site-packages (from pydantic->langchain) (4.4.0)\n",
      "Requirement already satisfied: urllib3<1.27,>=1.21.1 in /home/null/miniconda3/envs/google-colab/lib/python3.7/site-packages (from requests->langchain) (1.26.13)\n",
      "Requirement already satisfied: certifi>=2017.4.17 in /home/null/miniconda3/envs/google-colab/lib/python3.7/site-packages (from requests->langchain) (2022.12.7)\n",
      "Requirement already satisfied: idna<4,>=2.5 in /home/null/miniconda3/envs/google-colab/lib/python3.7/site-packages (from requests->langchain) (3.4)\n",
      "Requirement already satisfied: charset-normalizer<3,>=2 in /home/null/miniconda3/envs/google-colab/lib/python3.7/site-packages (from requests->langchain) (2.1.1)\n",
      "Collecting greenlet!=0.4.17\n",
      "  Using cached greenlet-2.0.2-cp37-cp37m-manylinux_2_17_x86_64.manylinux2014_x86_64.whl (566 kB)\n",
      "Requirement already satisfied: importlib-metadata in /home/null/miniconda3/envs/google-colab/lib/python3.7/site-packages (from sqlalchemy->langchain) (6.0.0)\n",
      "Requirement already satisfied: zipp>=0.5 in /home/null/miniconda3/envs/google-colab/lib/python3.7/site-packages (from importlib-metadata->sqlalchemy->langchain) (3.11.0)\n",
      "Installing collected packages: pydantic, greenlet, sqlalchemy, langchain\n",
      "Successfully installed greenlet-2.0.2 langchain-0.0.27 pydantic-1.10.7 sqlalchemy-2.0.7\n"
     ]
    }
   ],
   "source": [
    "!pip install langchain"
   ]
  },
  {
   "cell_type": "markdown",
   "metadata": {},
   "source": []
  }
 ],
 "metadata": {
  "kernelspec": {
   "display_name": "Python 3.7.15 ('google-colab')",
   "language": "python",
   "name": "python3"
  },
  "language_info": {
   "codemirror_mode": {
    "name": "ipython",
    "version": 3
   },
   "file_extension": ".py",
   "mimetype": "text/x-python",
   "name": "python",
   "nbconvert_exporter": "python",
   "pygments_lexer": "ipython3",
   "version": "3.7.15"
  },
  "orig_nbformat": 4,
  "vscode": {
   "interpreter": {
    "hash": "c1f1f1595feb5ef110822f66dd6e60e8ae52808f34c315cefa015a42926d3221"
   }
  }
 },
 "nbformat": 4,
 "nbformat_minor": 2
}
