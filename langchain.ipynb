{
 "cells": [
  {
   "attachments": {},
   "cell_type": "markdown",
   "metadata": {},
   "source": [
    "# Install LangChain"
   ]
  },
  {
   "cell_type": "code",
   "execution_count": 1,
   "metadata": {},
   "outputs": [
    {
     "name": "stdout",
     "output_type": "stream",
     "text": [
      "Not running on Google Colab\n"
     ]
    },
    {
     "data": {
      "text/html": [
       "<pre style=\"white-space:pre;overflow-x:auto;line-height:normal;font-family:Menlo,'DejaVu Sans Mono',consolas,'Courier New',monospace\">The python version is <span style=\"color: #008080; text-decoration-color: #008080; font-weight: bold\">3.10</span>.<span style=\"color: #008080; text-decoration-color: #008080; font-weight: bold\">10</span> | packaged by conda-forge | <span style=\"font-weight: bold\">(</span>main, Mar <span style=\"color: #008080; text-decoration-color: #008080; font-weight: bold\">24</span> <span style=\"color: #008080; text-decoration-color: #008080; font-weight: bold\">2023</span>, <span style=\"color: #00ff00; text-decoration-color: #00ff00; font-weight: bold\">20:08:06</span><span style=\"font-weight: bold\">)</span> <span style=\"font-weight: bold\">[</span>GCC <span style=\"color: #008080; text-decoration-color: #008080; font-weight: bold\">11.3</span>.<span style=\"color: #008080; text-decoration-color: #008080; font-weight: bold\">0</span><span style=\"font-weight: bold\">]</span>\n",
       "</pre>\n"
      ],
      "text/plain": [
       "The python version is \u001b[1;36m3.10\u001b[0m.\u001b[1;36m10\u001b[0m | packaged by conda-forge | \u001b[1m(\u001b[0mmain, Mar \u001b[1;36m24\u001b[0m \u001b[1;36m2023\u001b[0m, \u001b[1;92m20:08:06\u001b[0m\u001b[1m)\u001b[0m \u001b[1m[\u001b[0mGCC \u001b[1;36m11.3\u001b[0m.\u001b[1;36m0\u001b[0m\u001b[1m]\u001b[0m\n"
      ]
     },
     "metadata": {},
     "output_type": "display_data"
    }
   ],
   "source": [
    "# Check if the copmuter is on google colab\n",
    "import sys\n",
    "if 'google.colab' in sys.modules:\n",
    "    print(\"Running on Google Colab\")\n",
    "    !pip install rich\n",
    "    !pip install langchain\n",
    "    !pip install openai\n",
    "    !pip install chromadb\n",
    "    #!pip install llama-cpp-python\n",
    "    !pip install transformers\n",
    "    !pip install sentencepiece\n",
    "    !pip install accelerate\n",
    "    !pip3 install torch  --index-url https://download.pytorch.org/whl/cu118\n",
    "    !pip install bitsandbytes\n",
    "    ## Check if the GPU is available\n",
    "    import torch\n",
    "    if torch.cuda.is_available():\n",
    "        print(\"The GPU is available\")\n",
    "        !nvidia-smi\n",
    "    !pip install tiktoken\n",
    "        \n",
    "else:\n",
    "    print(\"Not running on Google Colab\")\n",
    "from rich import print\n",
    "print(f\"The python version is {sys.version}\")"
   ]
  },
  {
   "attachments": {},
   "cell_type": "markdown",
   "metadata": {},
   "source": [
    "# SetUp the Open AI APICode"
   ]
  },
  {
   "cell_type": "code",
   "execution_count": 2,
   "metadata": {},
   "outputs": [],
   "source": [
    "import os\n",
    "import openai\n",
    "from langchain import OpenAI, Wikipedia\n",
    "from langchain.agents import initialize_agent, Tool\n",
    "from langchain.agents.react.base import DocstoreExplorer\n",
    "from dotenv import load_dotenv\n",
    "load_dotenv()  # take environment variables from .env.\n",
    "#setting up OpenAI Api\n",
    "OPENKEY_API = os.getenv(\"OPENAI_KEY\")\n",
    "ORGANIZATION_ID = os.getenv(\"ORGANIZATION_ID\")\n",
    "os.environ[\"OPENAI_API_KEY\"] = OPENKEY_API\n",
    "openai.organization = ORGANIZATION_ID\n",
    "# get this from top-right dropdown on OpenAI under organization > settings\n",
    "openai.api_key = OPENKEY_API"
   ]
  },
  {
   "attachments": {},
   "cell_type": "markdown",
   "metadata": {},
   "source": [
    "# Calling the GPT type model LLama"
   ]
  },
  {
   "cell_type": "code",
   "execution_count": 3,
   "metadata": {},
   "outputs": [],
   "source": [
    "from langchain.llms import LlamaCpp\n",
    "from langchain import PromptTemplate, LLMChain\n",
    "template = \"\"\"Question: {question}\n",
    "\n",
    "Answer: Let's think step by step.\"\"\"\n",
    "\n",
    "prompt = PromptTemplate(template=template, input_variables=[\"question\"])"
   ]
  },
  {
   "cell_type": "code",
   "execution_count": 4,
   "metadata": {},
   "outputs": [],
   "source": [
    "#llm = LlamaCpp(model_path=\"./ggml-model-q4_0.bin\")"
   ]
  },
  {
   "cell_type": "code",
   "execution_count": 5,
   "metadata": {},
   "outputs": [
    {
     "data": {
      "text/html": [
       "<pre style=\"white-space:pre;overflow-x:auto;line-height:normal;font-family:Menlo,'DejaVu Sans Mono',consolas,'Courier New',monospace\"><span style=\"color: #800080; text-decoration-color: #800080; font-weight: bold\">PromptTemplate</span><span style=\"font-weight: bold\">(</span>\n",
       "    <span style=\"color: #808000; text-decoration-color: #808000\">input_variables</span>=<span style=\"font-weight: bold\">[</span><span style=\"color: #008000; text-decoration-color: #008000\">'question'</span><span style=\"font-weight: bold\">]</span>,\n",
       "    <span style=\"color: #808000; text-decoration-color: #808000\">output_parser</span>=<span style=\"color: #800080; text-decoration-color: #800080; font-style: italic\">None</span>,\n",
       "    <span style=\"color: #808000; text-decoration-color: #808000\">partial_variables</span>=<span style=\"font-weight: bold\">{}</span>,\n",
       "    <span style=\"color: #808000; text-decoration-color: #808000\">template</span>=<span style=\"color: #008000; text-decoration-color: #008000\">\"Question: {question}\\n\\nAnswer: Let's think step by step.\"</span>,\n",
       "    <span style=\"color: #808000; text-decoration-color: #808000\">template_format</span>=<span style=\"color: #008000; text-decoration-color: #008000\">'f-string'</span>,\n",
       "    <span style=\"color: #808000; text-decoration-color: #808000\">validate_template</span>=<span style=\"color: #00ff00; text-decoration-color: #00ff00; font-style: italic\">True</span>\n",
       "<span style=\"font-weight: bold\">)</span>\n",
       "</pre>\n"
      ],
      "text/plain": [
       "\u001b[1;35mPromptTemplate\u001b[0m\u001b[1m(\u001b[0m\n",
       "    \u001b[33minput_variables\u001b[0m=\u001b[1m[\u001b[0m\u001b[32m'question'\u001b[0m\u001b[1m]\u001b[0m,\n",
       "    \u001b[33moutput_parser\u001b[0m=\u001b[3;35mNone\u001b[0m,\n",
       "    \u001b[33mpartial_variables\u001b[0m=\u001b[1m{\u001b[0m\u001b[1m}\u001b[0m,\n",
       "    \u001b[33mtemplate\u001b[0m=\u001b[32m\"Question\u001b[0m\u001b[32m: \u001b[0m\u001b[32m{\u001b[0m\u001b[32mquestion\u001b[0m\u001b[32m}\u001b[0m\u001b[32m\\n\\nAnswer: Let's think step by step.\"\u001b[0m,\n",
       "    \u001b[33mtemplate_format\u001b[0m=\u001b[32m'f-string'\u001b[0m,\n",
       "    \u001b[33mvalidate_template\u001b[0m=\u001b[3;92mTrue\u001b[0m\n",
       "\u001b[1m)\u001b[0m\n"
      ]
     },
     "metadata": {},
     "output_type": "display_data"
    }
   ],
   "source": [
    "print(prompt)"
   ]
  },
  {
   "attachments": {},
   "cell_type": "markdown",
   "metadata": {},
   "source": [
    "# Call ChatGPT with Langchain"
   ]
  },
  {
   "attachments": {},
   "cell_type": "markdown",
   "metadata": {},
   "source": [
    "## Create a Chat Object with LangChain"
   ]
  },
  {
   "cell_type": "code",
   "execution_count": 6,
   "metadata": {},
   "outputs": [],
   "source": [
    "from langchain.chat_models import ChatOpenAI\n",
    "from langchain import PromptTemplate, LLMChain\n",
    "from langchain.prompts.chat import (\n",
    "    ChatPromptTemplate,\n",
    "    SystemMessagePromptTemplate,\n",
    "    AIMessagePromptTemplate,\n",
    "    HumanMessagePromptTemplate,\n",
    ")\n",
    "from langchain.schema import (\n",
    "    AIMessage,\n",
    "    HumanMessage,\n",
    "    SystemMessage\n",
    ")\n",
    "chat = ChatOpenAI(temperature=0)"
   ]
  },
  {
   "cell_type": "code",
   "execution_count": 7,
   "metadata": {},
   "outputs": [
    {
     "data": {
      "text/html": [
       "<pre style=\"white-space:pre;overflow-x:auto;line-height:normal;font-family:Menlo,'DejaVu Sans Mono',consolas,'Courier New',monospace\"><span style=\"color: #800080; text-decoration-color: #800080; font-weight: bold\">ChatOpenAI</span><span style=\"font-weight: bold\">(</span>\n",
       "    <span style=\"color: #808000; text-decoration-color: #808000\">verbose</span>=<span style=\"color: #ff0000; text-decoration-color: #ff0000; font-style: italic\">False</span>,\n",
       "    <span style=\"color: #808000; text-decoration-color: #808000\">callback_manager</span>=<span style=\"font-weight: bold\">&lt;</span><span style=\"color: #ff00ff; text-decoration-color: #ff00ff; font-weight: bold\">langchain.callbacks.shared.SharedCallbackManager</span><span style=\"color: #000000; text-decoration-color: #000000\"> object at </span><span style=\"color: #008080; text-decoration-color: #008080; font-weight: bold\">0x7f41465ab550</span><span style=\"font-weight: bold\">&gt;</span>,\n",
       "    <span style=\"color: #808000; text-decoration-color: #808000\">client</span>=<span style=\"font-weight: bold\">&lt;</span><span style=\"color: #ff00ff; text-decoration-color: #ff00ff; font-weight: bold\">class</span><span style=\"color: #000000; text-decoration-color: #000000\"> </span><span style=\"color: #008000; text-decoration-color: #008000\">'openai.api_resources.chat_completion.ChatCompletion'</span><span style=\"font-weight: bold\">&gt;</span>,\n",
       "    <span style=\"color: #808000; text-decoration-color: #808000\">model_name</span>=<span style=\"color: #008000; text-decoration-color: #008000\">'gpt-3.5-turbo'</span>,\n",
       "    <span style=\"color: #808000; text-decoration-color: #808000\">temperature</span>=<span style=\"color: #008080; text-decoration-color: #008080; font-weight: bold\">0.0</span>,\n",
       "    <span style=\"color: #808000; text-decoration-color: #808000\">model_kwargs</span>=<span style=\"font-weight: bold\">{}</span>,\n",
       "    <span style=\"color: #808000; text-decoration-color: #808000\">openai_api_key</span>=<span style=\"color: #800080; text-decoration-color: #800080; font-style: italic\">None</span>,\n",
       "    <span style=\"color: #808000; text-decoration-color: #808000\">openai_organization</span>=<span style=\"color: #800080; text-decoration-color: #800080; font-style: italic\">None</span>,\n",
       "    <span style=\"color: #808000; text-decoration-color: #808000\">request_timeout</span>=<span style=\"color: #008080; text-decoration-color: #008080; font-weight: bold\">60</span>,\n",
       "    <span style=\"color: #808000; text-decoration-color: #808000\">max_retries</span>=<span style=\"color: #008080; text-decoration-color: #008080; font-weight: bold\">6</span>,\n",
       "    <span style=\"color: #808000; text-decoration-color: #808000\">streaming</span>=<span style=\"color: #ff0000; text-decoration-color: #ff0000; font-style: italic\">False</span>,\n",
       "    <span style=\"color: #808000; text-decoration-color: #808000\">n</span>=<span style=\"color: #008080; text-decoration-color: #008080; font-weight: bold\">1</span>,\n",
       "    <span style=\"color: #808000; text-decoration-color: #808000\">max_tokens</span>=<span style=\"color: #800080; text-decoration-color: #800080; font-style: italic\">None</span>\n",
       "<span style=\"font-weight: bold\">)</span>\n",
       "</pre>\n"
      ],
      "text/plain": [
       "\u001b[1;35mChatOpenAI\u001b[0m\u001b[1m(\u001b[0m\n",
       "    \u001b[33mverbose\u001b[0m=\u001b[3;91mFalse\u001b[0m,\n",
       "    \u001b[33mcallback_manager\u001b[0m=\u001b[1m<\u001b[0m\u001b[1;95mlangchain.callbacks.shared.SharedCallbackManager\u001b[0m\u001b[39m object at \u001b[0m\u001b[1;36m0x7f41465ab550\u001b[0m\u001b[1m>\u001b[0m,\n",
       "    \u001b[33mclient\u001b[0m=\u001b[1m<\u001b[0m\u001b[1;95mclass\u001b[0m\u001b[39m \u001b[0m\u001b[32m'openai.api_resources.chat_completion.ChatCompletion'\u001b[0m\u001b[1m>\u001b[0m,\n",
       "    \u001b[33mmodel_name\u001b[0m=\u001b[32m'gpt-3.5-turbo'\u001b[0m,\n",
       "    \u001b[33mtemperature\u001b[0m=\u001b[1;36m0\u001b[0m\u001b[1;36m.0\u001b[0m,\n",
       "    \u001b[33mmodel_kwargs\u001b[0m=\u001b[1m{\u001b[0m\u001b[1m}\u001b[0m,\n",
       "    \u001b[33mopenai_api_key\u001b[0m=\u001b[3;35mNone\u001b[0m,\n",
       "    \u001b[33mopenai_organization\u001b[0m=\u001b[3;35mNone\u001b[0m,\n",
       "    \u001b[33mrequest_timeout\u001b[0m=\u001b[1;36m60\u001b[0m,\n",
       "    \u001b[33mmax_retries\u001b[0m=\u001b[1;36m6\u001b[0m,\n",
       "    \u001b[33mstreaming\u001b[0m=\u001b[3;91mFalse\u001b[0m,\n",
       "    \u001b[33mn\u001b[0m=\u001b[1;36m1\u001b[0m,\n",
       "    \u001b[33mmax_tokens\u001b[0m=\u001b[3;35mNone\u001b[0m\n",
       "\u001b[1m)\u001b[0m\n"
      ]
     },
     "metadata": {},
     "output_type": "display_data"
    }
   ],
   "source": [
    "print( chat)"
   ]
  },
  {
   "attachments": {},
   "cell_type": "markdown",
   "metadata": {},
   "source": [
    "## Make a ChatGPT Call"
   ]
  },
  {
   "cell_type": "code",
   "execution_count": 8,
   "metadata": {},
   "outputs": [
    {
     "data": {
      "text/html": [
       "<pre style=\"white-space:pre;overflow-x:auto;line-height:normal;font-family:Menlo,'DejaVu Sans Mono',consolas,'Courier New',monospace\">.\n",
       "\n",
       "The derivative of x squared can be found using the power rule of differentiation, which states that the derivative \n",
       "of x to the power of n is equal to n times x to the power of n-<span style=\"color: #008080; text-decoration-color: #008080; font-weight: bold\">1</span>. \n",
       "\n",
       "So, applying this rule to x squared, we get:\n",
       "\n",
       "d/dx <span style=\"font-weight: bold\">(</span>x^<span style=\"color: #008080; text-decoration-color: #008080; font-weight: bold\">2</span><span style=\"font-weight: bold\">)</span> = 2x^<span style=\"font-weight: bold\">(</span><span style=\"color: #008080; text-decoration-color: #008080; font-weight: bold\">2</span>-<span style=\"color: #008080; text-decoration-color: #008080; font-weight: bold\">1</span><span style=\"font-weight: bold\">)</span> = 2x\n",
       "\n",
       "Therefore, the derivative of x squared is 2x.\n",
       "</pre>\n"
      ],
      "text/plain": [
       ".\n",
       "\n",
       "The derivative of x squared can be found using the power rule of differentiation, which states that the derivative \n",
       "of x to the power of n is equal to n times x to the power of n-\u001b[1;36m1\u001b[0m. \n",
       "\n",
       "So, applying this rule to x squared, we get:\n",
       "\n",
       "d/dx \u001b[1m(\u001b[0mx^\u001b[1;36m2\u001b[0m\u001b[1m)\u001b[0m = 2x^\u001b[1m(\u001b[0m\u001b[1;36m2\u001b[0m-\u001b[1;36m1\u001b[0m\u001b[1m)\u001b[0m = 2x\n",
       "\n",
       "Therefore, the derivative of x squared is 2x.\n"
      ]
     },
     "metadata": {},
     "output_type": "display_data"
    }
   ],
   "source": [
    "answer = chat(\n",
    "    [\n",
    "        HumanMessage(\n",
    "            content = \"Q:What is the derivate of x square. \\nA:Let's think step by step\"\n",
    "                ),  \n",
    "    ],\n",
    ")\n",
    "print(answer.content)"
   ]
  },
  {
   "cell_type": "code",
   "execution_count": 9,
   "metadata": {},
   "outputs": [
    {
     "data": {
      "text/html": [
       "<pre style=\"white-space:pre;overflow-x:auto;line-height:normal;font-family:Menlo,'DejaVu Sans Mono',consolas,'Courier New',monospace\">.\n",
       "\n",
       "The derivative of x squared can be found using the power rule of differentiation, which states that the derivative \n",
       "of x to the power of n is equal to n times x to the power of n-<span style=\"color: #008080; text-decoration-color: #008080; font-weight: bold\">1</span>. \n",
       "\n",
       "So, applying this rule to x squared, we get:\n",
       "\n",
       "d/dx <span style=\"font-weight: bold\">(</span>x^<span style=\"color: #008080; text-decoration-color: #008080; font-weight: bold\">2</span><span style=\"font-weight: bold\">)</span> = 2x^<span style=\"font-weight: bold\">(</span><span style=\"color: #008080; text-decoration-color: #008080; font-weight: bold\">2</span>-<span style=\"color: #008080; text-decoration-color: #008080; font-weight: bold\">1</span><span style=\"font-weight: bold\">)</span> = 2x\n",
       "\n",
       "Therefore, the derivative of x squared is 2x.\n",
       "</pre>\n"
      ],
      "text/plain": [
       ".\n",
       "\n",
       "The derivative of x squared can be found using the power rule of differentiation, which states that the derivative \n",
       "of x to the power of n is equal to n times x to the power of n-\u001b[1;36m1\u001b[0m. \n",
       "\n",
       "So, applying this rule to x squared, we get:\n",
       "\n",
       "d/dx \u001b[1m(\u001b[0mx^\u001b[1;36m2\u001b[0m\u001b[1m)\u001b[0m = 2x^\u001b[1m(\u001b[0m\u001b[1;36m2\u001b[0m-\u001b[1;36m1\u001b[0m\u001b[1m)\u001b[0m = 2x\n",
       "\n",
       "Therefore, the derivative of x squared is 2x.\n"
      ]
     },
     "metadata": {},
     "output_type": "display_data"
    }
   ],
   "source": [
    "print(answer.content)"
   ]
  },
  {
   "attachments": {},
   "cell_type": "markdown",
   "metadata": {},
   "source": [
    "# Example of Hallucination of ChatGPT"
   ]
  },
  {
   "cell_type": "code",
   "execution_count": 10,
   "metadata": {},
   "outputs": [
    {
     "data": {
      "text/html": [
       "<pre style=\"white-space:pre;overflow-x:auto;line-height:normal;font-family:Menlo,'DejaVu Sans Mono',consolas,'Courier New',monospace\">As an AI language model, I do not have personal experiences or opinions. However, according to online reviews and \n",
       "ratings, UTD parking is rated around <span style=\"color: #008080; text-decoration-color: #008080; font-weight: bold\">6</span> out of <span style=\"color: #008080; text-decoration-color: #008080; font-weight: bold\">10</span>. Some students have reported difficulty finding parking spots \n",
       "during peak hours, while others have found the parking fees to be expensive. However, UTD has implemented several \n",
       "measures to improve parking, such as adding more parking spaces and implementing a shuttle service.\n",
       "</pre>\n"
      ],
      "text/plain": [
       "As an AI language model, I do not have personal experiences or opinions. However, according to online reviews and \n",
       "ratings, UTD parking is rated around \u001b[1;36m6\u001b[0m out of \u001b[1;36m10\u001b[0m. Some students have reported difficulty finding parking spots \n",
       "during peak hours, while others have found the parking fees to be expensive. However, UTD has implemented several \n",
       "measures to improve parking, such as adding more parking spaces and implementing a shuttle service.\n"
      ]
     },
     "metadata": {},
     "output_type": "display_data"
    }
   ],
   "source": [
    "print( chat([\n",
    "    HumanMessage(\n",
    "        content=\"Is UTD parking good and rate between 1 to 10?\"\n",
    "    )\n",
    "    ,\n",
    "]\n",
    "      ).content)"
   ]
  },
  {
   "attachments": {},
   "cell_type": "markdown",
   "metadata": {},
   "source": [
    "# Ge the Tokens and the size of the Tokens for ChatGPT\n",
    "tiktoken is a fast open-source tokenizer by OpenAI.\n",
    "\n",
    "Given a text string (e.g., \"tiktoken is great!\") and an encoding (e.g., \"cl100k_base\"), a tokenizer can split the text string into a list of tokens (e.g., [\"t\", \"ik\", \"token\", \" is\", \" great\", \"!\"]).\n",
    "\n",
    "Splitting text strings into tokens is useful because GPT models see text in the form of tokens. Knowing how many tokens are in a text string can tell you (a) whether the string is too long for a text model to process and (b) how much an OpenAI API call costs (as usage is priced by token).\n",
    "\n",
    "Encodings\n",
    "Encodings specify how text is converted into tokens. Different models use different encodings.\n",
    "\n",
    "tiktoken supports three encodings used by OpenAI models:\n",
    "\n",
    "Encoding name\tOpenAI models\n",
    "cl100k_base\tgpt-4, gpt-3.5-turbo, text-embedding-ada-002\n",
    "p50k_base\tCodex models, text-davinci-002, text-davinci-003\n",
    "r50k_base (or gpt2)\tGPT-3 models like davinci\n",
    "\n"
   ]
  },
  {
   "cell_type": "code",
   "execution_count": 11,
   "metadata": {},
   "outputs": [
    {
     "data": {
      "text/html": [
       "<pre style=\"white-space:pre;overflow-x:auto;line-height:normal;font-family:Menlo,'DejaVu Sans Mono',consolas,'Courier New',monospace\"><span style=\"font-weight: bold\">[</span><span style=\"color: #008080; text-decoration-color: #008080; font-weight: bold\">83</span>, <span style=\"color: #008080; text-decoration-color: #008080; font-weight: bold\">1609</span>, <span style=\"color: #008080; text-decoration-color: #008080; font-weight: bold\">5963</span>, <span style=\"color: #008080; text-decoration-color: #008080; font-weight: bold\">374</span>, <span style=\"color: #008080; text-decoration-color: #008080; font-weight: bold\">2294</span>, <span style=\"color: #008080; text-decoration-color: #008080; font-weight: bold\">0</span><span style=\"font-weight: bold\">]</span>\n",
       "</pre>\n"
      ],
      "text/plain": [
       "\u001b[1m[\u001b[0m\u001b[1;36m83\u001b[0m, \u001b[1;36m1609\u001b[0m, \u001b[1;36m5963\u001b[0m, \u001b[1;36m374\u001b[0m, \u001b[1;36m2294\u001b[0m, \u001b[1;36m0\u001b[0m\u001b[1m]\u001b[0m\n"
      ]
     },
     "metadata": {},
     "output_type": "display_data"
    },
    {
     "data": {
      "text/plain": [
       "6"
      ]
     },
     "execution_count": 11,
     "metadata": {},
     "output_type": "execute_result"
    }
   ],
   "source": [
    "import tiktoken\n",
    "def num_tokens_from_string(string: str, encoding_name: str) -> int:\n",
    "    \"\"\"Returns the number of tokens in a text string.\"\"\"\n",
    "    encoding = tiktoken.get_encoding(encoding_name)\n",
    "    print(encoding.encode(string))\n",
    "    #print(encoding.decode_single_token_bytes(encoding.encode(string)))\n",
    "    num_tokens = len(encoding.encode(string))\n",
    "    return num_tokens\n",
    "\n",
    "num_tokens_from_string(\"tiktoken is great!\", \"cl100k_base\")"
   ]
  },
  {
   "attachments": {},
   "cell_type": "markdown",
   "metadata": {},
   "source": [
    "# ChatGPT with Different Tempaerture"
   ]
  },
  {
   "attachments": {},
   "cell_type": "markdown",
   "metadata": {},
   "source": [
    "## Temperature set to Zero where will call the moddel twice. It will return nearly the same result"
   ]
  },
  {
   "cell_type": "code",
   "execution_count": 12,
   "metadata": {},
   "outputs": [
    {
     "data": {
      "text/html": [
       "<pre style=\"white-space:pre;overflow-x:auto;line-height:normal;font-family:Menlo,'DejaVu Sans Mono',consolas,'Courier New',monospace\">As an AI language model, I don't have access to your specific account information. However, there could be several \n",
       "reasons why there is still a hold/fee on your account even after paying at the Bursar. Some possible reasons \n",
       "include:\n",
       "\n",
       "<span style=\"color: #008080; text-decoration-color: #008080; font-weight: bold\">1</span>. Processing time: It may take some time for the payment to be processed and reflected on your account. Check with\n",
       "the Bursar's office to confirm the processing time for payments.\n",
       "\n",
       "<span style=\"color: #008080; text-decoration-color: #008080; font-weight: bold\">2</span>. Outstanding balance: If you had an outstanding balance before making the payment, the hold/fee may still be on \n",
       "your account until the balance is fully paid.\n",
       "\n",
       "<span style=\"color: #008080; text-decoration-color: #008080; font-weight: bold\">3</span>. Late fees: If you paid after the due date, there may be late fees or penalties that were added to your account.\n",
       "\n",
       "<span style=\"color: #008080; text-decoration-color: #008080; font-weight: bold\">4</span>. Incorrect payment amount: If you paid an incorrect amount, the hold/fee may still be on your account until the \n",
       "correct amount is paid.\n",
       "\n",
       "<span style=\"color: #008080; text-decoration-color: #008080; font-weight: bold\">5</span>. Administrative error: There may have been an administrative error that caused the hold/fee to remain on your \n",
       "account. Contact the Bursar's office to inquire about any possible errors.\n",
       "\n",
       "It is best to contact the Bursar's office directly to determine the reason for the hold/fee on your account and to \n",
       "resolve any outstanding issues.\n",
       "</pre>\n"
      ],
      "text/plain": [
       "As an AI language model, I don't have access to your specific account information. However, there could be several \n",
       "reasons why there is still a hold/fee on your account even after paying at the Bursar. Some possible reasons \n",
       "include:\n",
       "\n",
       "\u001b[1;36m1\u001b[0m. Processing time: It may take some time for the payment to be processed and reflected on your account. Check with\n",
       "the Bursar's office to confirm the processing time for payments.\n",
       "\n",
       "\u001b[1;36m2\u001b[0m. Outstanding balance: If you had an outstanding balance before making the payment, the hold/fee may still be on \n",
       "your account until the balance is fully paid.\n",
       "\n",
       "\u001b[1;36m3\u001b[0m. Late fees: If you paid after the due date, there may be late fees or penalties that were added to your account.\n",
       "\n",
       "\u001b[1;36m4\u001b[0m. Incorrect payment amount: If you paid an incorrect amount, the hold/fee may still be on your account until the \n",
       "correct amount is paid.\n",
       "\n",
       "\u001b[1;36m5\u001b[0m. Administrative error: There may have been an administrative error that caused the hold/fee to remain on your \n",
       "account. Contact the Bursar's office to inquire about any possible errors.\n",
       "\n",
       "It is best to contact the Bursar's office directly to determine the reason for the hold/fee on your account and to \n",
       "resolve any outstanding issues.\n"
      ]
     },
     "metadata": {},
     "output_type": "display_data"
    },
    {
     "data": {
      "text/html": [
       "<pre style=\"white-space:pre;overflow-x:auto;line-height:normal;font-family:Menlo,'DejaVu Sans Mono',consolas,'Courier New',monospace\">Another response with the same propmt\n",
       "</pre>\n"
      ],
      "text/plain": [
       "Another response with the same propmt\n"
      ]
     },
     "metadata": {},
     "output_type": "display_data"
    },
    {
     "data": {
      "text/html": [
       "<pre style=\"white-space:pre;overflow-x:auto;line-height:normal;font-family:Menlo,'DejaVu Sans Mono',consolas,'Courier New',monospace\">As an AI language model, I don't have access to your specific account information. However, there could be several \n",
       "reasons why there is still a hold/fee on your account even after paying at the Bursar. Some possible reasons \n",
       "include:\n",
       "\n",
       "<span style=\"color: #008080; text-decoration-color: #008080; font-weight: bold\">1</span>. Processing time: It may take some time for the payment to be processed and reflected on your account. Check with\n",
       "the Bursar's office to confirm the processing time for payments.\n",
       "\n",
       "<span style=\"color: #008080; text-decoration-color: #008080; font-weight: bold\">2</span>. Outstanding balance: If you had an outstanding balance before making the payment, the hold/fee may still be on \n",
       "your account until the balance is fully paid.\n",
       "\n",
       "<span style=\"color: #008080; text-decoration-color: #008080; font-weight: bold\">3</span>. Late fees: If you paid after the due date, there may be late fees or penalties that need to be paid before the \n",
       "hold/fee is removed.\n",
       "\n",
       "<span style=\"color: #008080; text-decoration-color: #008080; font-weight: bold\">4</span>. Administrative error: There may have been an administrative error that caused the hold/fee to remain on your \n",
       "account. Contact the Bursar's office to inquire about any possible errors.\n",
       "\n",
       "It's best to contact the Bursar's office directly to get more information about why the hold/fee is still on your \n",
       "account and what steps you can take to resolve it.\n",
       "</pre>\n"
      ],
      "text/plain": [
       "As an AI language model, I don't have access to your specific account information. However, there could be several \n",
       "reasons why there is still a hold/fee on your account even after paying at the Bursar. Some possible reasons \n",
       "include:\n",
       "\n",
       "\u001b[1;36m1\u001b[0m. Processing time: It may take some time for the payment to be processed and reflected on your account. Check with\n",
       "the Bursar's office to confirm the processing time for payments.\n",
       "\n",
       "\u001b[1;36m2\u001b[0m. Outstanding balance: If you had an outstanding balance before making the payment, the hold/fee may still be on \n",
       "your account until the balance is fully paid.\n",
       "\n",
       "\u001b[1;36m3\u001b[0m. Late fees: If you paid after the due date, there may be late fees or penalties that need to be paid before the \n",
       "hold/fee is removed.\n",
       "\n",
       "\u001b[1;36m4\u001b[0m. Administrative error: There may have been an administrative error that caused the hold/fee to remain on your \n",
       "account. Contact the Bursar's office to inquire about any possible errors.\n",
       "\n",
       "It's best to contact the Bursar's office directly to get more information about why the hold/fee is still on your \n",
       "account and what steps you can take to resolve it.\n"
      ]
     },
     "metadata": {},
     "output_type": "display_data"
    }
   ],
   "source": [
    "chat = ChatOpenAI(temperature=0)\n",
    "print( chat([\n",
    "    HumanMessage(\n",
    "        content=\"I paid at the Bursar, so why is there still a hold/fee on my account?\"\n",
    "    )\n",
    "    ,\n",
    "]\n",
    "      ).content)\n",
    "print(\"Another response with the same propmt\")\n",
    "print( chat([\n",
    "    HumanMessage(\n",
    "        content=\"I paid at the Bursar, so why is there still a hold/fee on my account?\"\n",
    "    )\n",
    "    ,\n",
    "]\n",
    "      ).content)"
   ]
  },
  {
   "attachments": {},
   "cell_type": "markdown",
   "metadata": {},
   "source": [
    "## Temperature set to 1 where will call the moddel twice. It will return nearly the same result\n",
    "1. You should different output. The model is need to similar enough so student can have similar experience."
   ]
  },
  {
   "cell_type": "code",
   "execution_count": 13,
   "metadata": {},
   "outputs": [
    {
     "data": {
      "text/html": [
       "<pre style=\"white-space:pre;overflow-x:auto;line-height:normal;font-family:Menlo,'DejaVu Sans Mono',consolas,'Courier New',monospace\">As an AI language model, I don't have access to your specific account information. However, in general, there could\n",
       "be a few reasons why there is still a hold or fee on your account even after paying at the bursar:\n",
       "\n",
       "<span style=\"color: #008080; text-decoration-color: #008080; font-weight: bold\">1</span>. Payment processing delay: It may take some time for the payment to be processed and reflected on your account. \n",
       "This delay could be due to various factors such as a large volume of payments, technical issues, or processing \n",
       "times from banks.\n",
       "\n",
       "<span style=\"color: #008080; text-decoration-color: #008080; font-weight: bold\">2</span>. Partial payment: If you made a partial payment, there may still be an outstanding balance on your account that \n",
       "needs to be settled.\n",
       "\n",
       "<span style=\"color: #008080; text-decoration-color: #008080; font-weight: bold\">3</span>. Late payment fee: If you paid after the deadline, a late payment fee may have been applied to your account, \n",
       "which could be the reason for the hold.\n",
       "\n",
       "<span style=\"color: #008080; text-decoration-color: #008080; font-weight: bold\">4</span>. Incorrect payment application: There is a chance that the payment was not applied to the correct account or \n",
       "invoice.\n",
       "\n",
       "We recommend contacting your school's bursar or financial aid office to get more information about the hold or fee \n",
       "on your account. They should be able to assist you in figuring out the reason for the hold and provide guidance on \n",
       "how to resolve it.\n",
       "</pre>\n"
      ],
      "text/plain": [
       "As an AI language model, I don't have access to your specific account information. However, in general, there could\n",
       "be a few reasons why there is still a hold or fee on your account even after paying at the bursar:\n",
       "\n",
       "\u001b[1;36m1\u001b[0m. Payment processing delay: It may take some time for the payment to be processed and reflected on your account. \n",
       "This delay could be due to various factors such as a large volume of payments, technical issues, or processing \n",
       "times from banks.\n",
       "\n",
       "\u001b[1;36m2\u001b[0m. Partial payment: If you made a partial payment, there may still be an outstanding balance on your account that \n",
       "needs to be settled.\n",
       "\n",
       "\u001b[1;36m3\u001b[0m. Late payment fee: If you paid after the deadline, a late payment fee may have been applied to your account, \n",
       "which could be the reason for the hold.\n",
       "\n",
       "\u001b[1;36m4\u001b[0m. Incorrect payment application: There is a chance that the payment was not applied to the correct account or \n",
       "invoice.\n",
       "\n",
       "We recommend contacting your school's bursar or financial aid office to get more information about the hold or fee \n",
       "on your account. They should be able to assist you in figuring out the reason for the hold and provide guidance on \n",
       "how to resolve it.\n"
      ]
     },
     "metadata": {},
     "output_type": "display_data"
    },
    {
     "data": {
      "text/html": [
       "<pre style=\"white-space:pre;overflow-x:auto;line-height:normal;font-family:Menlo,'DejaVu Sans Mono',consolas,'Courier New',monospace\">Another response with the same propmt\n",
       "</pre>\n"
      ],
      "text/plain": [
       "Another response with the same propmt\n"
      ]
     },
     "metadata": {},
     "output_type": "display_data"
    },
    {
     "data": {
      "text/html": [
       "<pre style=\"white-space:pre;overflow-x:auto;line-height:normal;font-family:Menlo,'DejaVu Sans Mono',consolas,'Courier New',monospace\">As an AI language model, I don't have access to specific information about your account, but some possible reasons \n",
       "why there is still a hold/fee on your account even after you paid at the Bursar's office may include:\n",
       "\n",
       "<span style=\"color: #008080; text-decoration-color: #008080; font-weight: bold\">1</span>. Processing Time: It may take some time for the payment to be processed and reflected in your account. Depending \n",
       "on the mode of payment, it may take a few hours or days for the payment to be credited to your account.\n",
       "\n",
       "<span style=\"color: #008080; text-decoration-color: #008080; font-weight: bold\">2</span>. Late Fees: If you paid after the due date, you may still owe late fees or penalties.\n",
       "\n",
       "<span style=\"color: #008080; text-decoration-color: #008080; font-weight: bold\">3</span>. Unpaid Balances: If you have other outstanding balances on your account, the payment you made may have been \n",
       "applied to the oldest balance first, leaving other balances unpaid.\n",
       "\n",
       "<span style=\"color: #008080; text-decoration-color: #008080; font-weight: bold\">4</span>. Administrative Holds: Some institutions place administrative holds on student accounts for various reasons such \n",
       "as overdue library books or parking fines. These holds can prevent you from registering for classes or receiving \n",
       "transcripts until they are cleared.\n",
       "\n",
       "If you are unsure why there is still a hold or fee on your account, it's best to contact the Bursar's office or the\n",
       "student account department for clarification.\n",
       "</pre>\n"
      ],
      "text/plain": [
       "As an AI language model, I don't have access to specific information about your account, but some possible reasons \n",
       "why there is still a hold/fee on your account even after you paid at the Bursar's office may include:\n",
       "\n",
       "\u001b[1;36m1\u001b[0m. Processing Time: It may take some time for the payment to be processed and reflected in your account. Depending \n",
       "on the mode of payment, it may take a few hours or days for the payment to be credited to your account.\n",
       "\n",
       "\u001b[1;36m2\u001b[0m. Late Fees: If you paid after the due date, you may still owe late fees or penalties.\n",
       "\n",
       "\u001b[1;36m3\u001b[0m. Unpaid Balances: If you have other outstanding balances on your account, the payment you made may have been \n",
       "applied to the oldest balance first, leaving other balances unpaid.\n",
       "\n",
       "\u001b[1;36m4\u001b[0m. Administrative Holds: Some institutions place administrative holds on student accounts for various reasons such \n",
       "as overdue library books or parking fines. These holds can prevent you from registering for classes or receiving \n",
       "transcripts until they are cleared.\n",
       "\n",
       "If you are unsure why there is still a hold or fee on your account, it's best to contact the Bursar's office or the\n",
       "student account department for clarification.\n"
      ]
     },
     "metadata": {},
     "output_type": "display_data"
    }
   ],
   "source": [
    "from rich import print\n",
    "chat = ChatOpenAI(temperature=1)\n",
    "print( chat([\n",
    "    HumanMessage(\n",
    "        content=\"I paid at the Bursar, so why is there still a hold/fee on my account?\"\n",
    "    )\n",
    "    ,\n",
    "]\n",
    "      ).content)\n",
    "print(\"Another response with the same propmt\")\n",
    "print( chat([\n",
    "    HumanMessage(\n",
    "        content=\"I paid at the Bursar, so why is there still a hold/fee on my account?\"\n",
    "    )\n",
    "    ,\n",
    "]\n",
    "      ).content)"
   ]
  },
  {
   "attachments": {},
   "cell_type": "markdown",
   "metadata": {},
   "source": [
    "# Zero Shot with LangChain doing Calculus"
   ]
  },
  {
   "cell_type": "code",
   "execution_count": 14,
   "metadata": {},
   "outputs": [
    {
     "data": {
      "text/html": [
       "<pre style=\"white-space:pre;overflow-x:auto;line-height:normal;font-family:Menlo,'DejaVu Sans Mono',consolas,'Courier New',monospace\">The derivative of x^<span style=\"color: #008080; text-decoration-color: #008080; font-weight: bold\">2</span> is 2x.\n",
       "</pre>\n"
      ],
      "text/plain": [
       "The derivative of x^\u001b[1;36m2\u001b[0m is 2x.\n"
      ]
     },
     "metadata": {},
     "output_type": "display_data"
    }
   ],
   "source": [
    "answer = chat(\n",
    "    [\n",
    "        HumanMessage(\n",
    "            content = \"Q:What is the derivate of x square. \\nA:\"\n",
    "                ),\n",
    "    ],\n",
    ")\n",
    "print(answer.content)"
   ]
  },
  {
   "attachments": {},
   "cell_type": "markdown",
   "metadata": {},
   "source": [
    "# Zero Shot with LangChain doing Calculus Chain of Thought Prompting\n",
    "1. The model will explain the steps by step to solve the problem\n",
    "2. All you have to do this append \"Let's think step by step\" to the prompt"
   ]
  },
  {
   "cell_type": "code",
   "execution_count": 15,
   "metadata": {},
   "outputs": [
    {
     "data": {
      "text/html": [
       "<pre style=\"white-space:pre;overflow-x:auto;line-height:normal;font-family:Menlo,'DejaVu Sans Mono',consolas,'Courier New',monospace\">.\n",
       "\n",
       "The derivative of a function represents its rate of change or slope at any given point. \n",
       "\n",
       "To find the derivative of x^<span style=\"color: #008080; text-decoration-color: #008080; font-weight: bold\">2</span>, we use the power rule, which states that the derivative of x^n is nx^<span style=\"font-weight: bold\">(</span>n-<span style=\"color: #008080; text-decoration-color: #008080; font-weight: bold\">1</span><span style=\"font-weight: bold\">)</span>.\n",
       "\n",
       "Using this rule, the derivative of x^<span style=\"color: #008080; text-decoration-color: #008080; font-weight: bold\">2</span> is:\n",
       "\n",
       "d/dx <span style=\"font-weight: bold\">(</span>x^<span style=\"color: #008080; text-decoration-color: #008080; font-weight: bold\">2</span><span style=\"font-weight: bold\">)</span> = 2x^<span style=\"color: #008080; text-decoration-color: #008080; font-weight: bold\">1</span> \n",
       "\n",
       "which simplifies to:\n",
       "\n",
       "d/dx <span style=\"font-weight: bold\">(</span>x^<span style=\"color: #008080; text-decoration-color: #008080; font-weight: bold\">2</span><span style=\"font-weight: bold\">)</span> = 2x. \n",
       "\n",
       "Therefore, the derivative of x^<span style=\"color: #008080; text-decoration-color: #008080; font-weight: bold\">2</span> is 2x.\n",
       "</pre>\n"
      ],
      "text/plain": [
       ".\n",
       "\n",
       "The derivative of a function represents its rate of change or slope at any given point. \n",
       "\n",
       "To find the derivative of x^\u001b[1;36m2\u001b[0m, we use the power rule, which states that the derivative of x^n is nx^\u001b[1m(\u001b[0mn-\u001b[1;36m1\u001b[0m\u001b[1m)\u001b[0m.\n",
       "\n",
       "Using this rule, the derivative of x^\u001b[1;36m2\u001b[0m is:\n",
       "\n",
       "d/dx \u001b[1m(\u001b[0mx^\u001b[1;36m2\u001b[0m\u001b[1m)\u001b[0m = 2x^\u001b[1;36m1\u001b[0m \n",
       "\n",
       "which simplifies to:\n",
       "\n",
       "d/dx \u001b[1m(\u001b[0mx^\u001b[1;36m2\u001b[0m\u001b[1m)\u001b[0m = 2x. \n",
       "\n",
       "Therefore, the derivative of x^\u001b[1;36m2\u001b[0m is 2x.\n"
      ]
     },
     "metadata": {},
     "output_type": "display_data"
    }
   ],
   "source": [
    "answer = chat(\n",
    "    [\n",
    "        HumanMessage(\n",
    "            content = \"Q:What is the derivate of x square. \\nA:Let's think step by step\"\n",
    "                ),  \n",
    "    ],\n",
    ")\n",
    "print(answer.content)"
   ]
  },
  {
   "cell_type": "markdown",
   "metadata": {},
   "source": [
    "# Example to Least to Most"
   ]
  },
  {
   "cell_type": "code",
   "execution_count": 16,
   "metadata": {},
   "outputs": [
    {
     "data": {
      "text/html": [
       "<pre style=\"white-space:pre;overflow-x:auto;line-height:normal;font-family:Menlo,'DejaVu Sans Mono',consolas,'Courier New',monospace\">As an AI language model, I do not have access to personal information or accounts. However, you can typically \n",
       "remove a vehicle from your parking account by logging in to the University of Texas at Dallas Parking Portal and \n",
       "navigating to the <span style=\"color: #008000; text-decoration-color: #008000\">\"Manage Vehicles\"</span> section. From there, you can select the vehicle you wish to remove and follow \n",
       "the prompts to delete it from your account. If you encounter any technical difficulties, you can contact the UTD \n",
       "Parking and Transportation Services department for assistance.\n",
       "</pre>\n"
      ],
      "text/plain": [
       "As an AI language model, I do not have access to personal information or accounts. However, you can typically \n",
       "remove a vehicle from your parking account by logging in to the University of Texas at Dallas Parking Portal and \n",
       "navigating to the \u001b[32m\"Manage Vehicles\"\u001b[0m section. From there, you can select the vehicle you wish to remove and follow \n",
       "the prompts to delete it from your account. If you encounter any technical difficulties, you can contact the UTD \n",
       "Parking and Transportation Services department for assistance.\n"
      ]
     },
     "metadata": {},
     "output_type": "display_data"
    }
   ],
   "source": [
    "question = \"How do I remove a vehicle from my parking account at University of Texas at Dallas?\" \n",
    "answer = chat(\n",
    "    [\n",
    "        HumanMessage(\n",
    "            content = question\n",
    "                ),  \n",
    "    ],\n",
    ")\n",
    "print(answer.content)"
   ]
  },
  {
   "attachments": {},
   "cell_type": "markdown",
   "metadata": {},
   "source": [
    "# Evalution\n",
    "1. What is G_Eval\n",
    "\t1. You prompt the a GPT-3.5 model to rank a generated text between 1 to 4 on engaginess , humanlinkenes and other dialgouge metric. Afteward, take the  average of the score value time how probable the model will select the score. \n",
    "2. How to modify base on the prompt to evaluate \n",
    "\t1. Coherence\n",
    "\t2. Relevance\n",
    "\t3. Knowledgeability\n",
    "\t4. ...\n",
    "3. How to modify base on the prompt to evaluate ( Code Example using Instruct GPT instead of ChatGPT and small bug that that will not significantly affect the result)\n",
    "\t1. Coherence\n",
    "\t2. Relevance\n",
    "\t3. Knowledgeability\n",
    "\t4. ...\n",
    "3.Cons "
   ]
  },
  {
   "attachments": {},
   "cell_type": "markdown",
   "metadata": {},
   "source": [
    "## Relevance"
   ]
  },
  {
   "cell_type": "code",
   "execution_count": 17,
   "metadata": {},
   "outputs": [],
   "source": [
    "import math\n",
    "import os\n",
    "import openai\n",
    "def gpt_eval_relevance( conversation , chat_bots_response):\n",
    "    gpt_eval_gpt_3_5_engagingness = openai.Completion.create(\n",
    "    engine = \"text-davinci-003\",\n",
    "    temperature = 0, # 0 is the best for evaluation to make it consistency] I don't what the model to be creative\n",
    "    top_p = 1, # 1 this make the model to consider all the possible tokens\n",
    "    max_tokens = 5,\n",
    "    logprobs = 5,\n",
    "    prompt = f\"\"\"\n",
    "                You will be given a conversation between two individuals. You will then be given one potential response for the next turn in the conversation. Please make sure you read and understand these instructions carefully. Please keep this document open while reviewing, and refer to it as needed.\n",
    "\n",
    "                Relevance (1-4) Does the response make sense in the context of the conversation?\n",
    "                - A score of 1 (Irrelevant at all) means the response does not make sense in the conversation context.\n",
    "                - A score of 2 (Somewhat relevant) means that the response is somewhat relevant to the conversation but could be improved.\n",
    "                - A score of 3 (Relevant) means that the response is relevant to the conversation and makes sense in the context.\n",
    "                - A score of 4 (Very relevant) means that the response is relevant to the conversation and appropriate.\n",
    "                Evaluation Steps\n",
    "\n",
    "                1. Read the conversation carefully.\n",
    "                2. Rate the response on a scale of 1-4 for coherence, according to the criteria above.\n",
    "                3. Briefly explain your rating, referring to specific aspects of the response and the conversation.\n",
    "\n",
    "                Conversation:\n",
    "                {conversation}\n",
    "                Response\n",
    "                {chat_bots_response}\n",
    "                Evaluation Form (scores ONLY):\n",
    "                - Relevance:\n",
    "                \"\"\"\n",
    "    )\n",
    "    weight_average = 0\n",
    "    for token , negative_log_likelihood in gpt_eval_gpt_3_5_engagingness.choices[0].logprobs.top_logprobs[0].items():\n",
    "        if token.strip() in [\"1\", \"2\", \"3\", \"4\"]:\n",
    "            weight_average += ( math.pow(      2 ,  negative_log_likelihood) * int(token) )\n",
    "    return weight_average"
   ]
  },
  {
   "attachments": {},
   "cell_type": "markdown",
   "metadata": {},
   "source": [
    "# Loop through the Dataset and get the Relevance"
   ]
  },
  {
   "attachments": {},
   "cell_type": "markdown",
   "metadata": {},
   "source": [
    "## Load the FAQ CSV"
   ]
  },
  {
   "cell_type": "code",
   "execution_count": 18,
   "metadata": {},
   "outputs": [
    {
     "data": {
      "text/html": [
       "<pre style=\"white-space:pre;overflow-x:auto;line-height:normal;font-family:Menlo,'DejaVu Sans Mono',consolas,'Courier New',monospace\">                                            Question  \\\n",
       "<span style=\"color: #008080; text-decoration-color: #008080; font-weight: bold\">0</span>  Does UT Dallas provide services for students w<span style=\"color: #808000; text-decoration-color: #808000\">...</span>   \n",
       "<span style=\"color: #008080; text-decoration-color: #008080; font-weight: bold\">1</span>  Is there a separate admissions procedure for s<span style=\"color: #808000; text-decoration-color: #808000\">...</span>   \n",
       "<span style=\"color: #008080; text-decoration-color: #008080; font-weight: bold\">2</span>  Should I send my disability documentation with<span style=\"color: #808000; text-decoration-color: #808000\">...</span>   \n",
       "<span style=\"color: #008080; text-decoration-color: #008080; font-weight: bold\">3</span>  What documentation is required to receive disa<span style=\"color: #808000; text-decoration-color: #808000\">...</span>   \n",
       "<span style=\"color: #008080; text-decoration-color: #008080; font-weight: bold\">4</span>  Is there a deadline for submitting disability <span style=\"color: #808000; text-decoration-color: #808000\">...</span>   \n",
       "\n",
       "                                           Answering  \\\n",
       "<span style=\"color: #008080; text-decoration-color: #008080; font-weight: bold\">0</span>  Yes, accommodations and services are provided <span style=\"color: #808000; text-decoration-color: #808000\">...</span>   \n",
       "<span style=\"color: #008080; text-decoration-color: #008080; font-weight: bold\">1</span>  No. The admissions process and criteria are th<span style=\"color: #808000; text-decoration-color: #808000\">...</span>   \n",
       "<span style=\"color: #008080; text-decoration-color: #008080; font-weight: bold\">2</span>  No. Documentation should be submitted to ARC o<span style=\"color: #808000; text-decoration-color: #808000\">...</span>   \n",
       "<span style=\"color: #008080; text-decoration-color: #008080; font-weight: bold\">3</span>  Students requesting services must provide curr<span style=\"color: #808000; text-decoration-color: #808000\">...</span>   \n",
       "<span style=\"color: #008080; text-decoration-color: #008080; font-weight: bold\">4</span>  To ensure that accommodations will be in place<span style=\"color: #808000; text-decoration-color: #808000\">...</span>   \n",
       "\n",
       "                                                 URL                  Label  \\\n",
       "<span style=\"color: #008080; text-decoration-color: #008080; font-weight: bold\">0</span>  <span style=\"color: #0000ff; text-decoration-color: #0000ff; text-decoration: underline\">https://accessability.utdallas.edu/student-acc...</span>  Student Accessibility   \n",
       "<span style=\"color: #008080; text-decoration-color: #008080; font-weight: bold\">1</span>  <span style=\"color: #0000ff; text-decoration-color: #0000ff; text-decoration: underline\">https://Accessibility.utdallas.edu/student-acc...</span>  Student Accessibility   \n",
       "<span style=\"color: #008080; text-decoration-color: #008080; font-weight: bold\">2</span>  <span style=\"color: #0000ff; text-decoration-color: #0000ff; text-decoration: underline\">https://Accessibility.utdallas.edu/student-acc...</span>  Student Accessibility   \n",
       "<span style=\"color: #008080; text-decoration-color: #008080; font-weight: bold\">3</span>  <span style=\"color: #0000ff; text-decoration-color: #0000ff; text-decoration: underline\">https://Accessibility.utdallas.edu/student-acc...</span>  Student Accessibility   \n",
       "<span style=\"color: #008080; text-decoration-color: #008080; font-weight: bold\">4</span>  <span style=\"color: #0000ff; text-decoration-color: #0000ff; text-decoration: underline\">https://Accessibility.utdallas.edu/student-acc...</span>  Student Accessibility   \n",
       "\n",
       "   size_of_the_prompt_tokens  number_of_completion_tokens  \\\n",
       "<span style=\"color: #008080; text-decoration-color: #008080; font-weight: bold\">0</span>                          <span style=\"color: #008080; text-decoration-color: #008080; font-weight: bold\">0</span>                            <span style=\"color: #008080; text-decoration-color: #008080; font-weight: bold\">0</span>   \n",
       "<span style=\"color: #008080; text-decoration-color: #008080; font-weight: bold\">1</span>                          <span style=\"color: #008080; text-decoration-color: #008080; font-weight: bold\">0</span>                            <span style=\"color: #008080; text-decoration-color: #008080; font-weight: bold\">0</span>   \n",
       "<span style=\"color: #008080; text-decoration-color: #008080; font-weight: bold\">2</span>                          <span style=\"color: #008080; text-decoration-color: #008080; font-weight: bold\">0</span>                            <span style=\"color: #008080; text-decoration-color: #008080; font-weight: bold\">0</span>   \n",
       "<span style=\"color: #008080; text-decoration-color: #008080; font-weight: bold\">3</span>                          <span style=\"color: #008080; text-decoration-color: #008080; font-weight: bold\">0</span>                            <span style=\"color: #008080; text-decoration-color: #008080; font-weight: bold\">0</span>   \n",
       "<span style=\"color: #008080; text-decoration-color: #008080; font-weight: bold\">4</span>                          <span style=\"color: #008080; text-decoration-color: #008080; font-weight: bold\">0</span>                            <span style=\"color: #008080; text-decoration-color: #008080; font-weight: bold\">0</span>   \n",
       "\n",
       "   number_of_ttotal_tokens  total_cost  \\\n",
       "<span style=\"color: #008080; text-decoration-color: #008080; font-weight: bold\">0</span>                        <span style=\"color: #008080; text-decoration-color: #008080; font-weight: bold\">0</span>         <span style=\"color: #008080; text-decoration-color: #008080; font-weight: bold\">0.0</span>   \n",
       "<span style=\"color: #008080; text-decoration-color: #008080; font-weight: bold\">1</span>                        <span style=\"color: #008080; text-decoration-color: #008080; font-weight: bold\">0</span>         <span style=\"color: #008080; text-decoration-color: #008080; font-weight: bold\">0.0</span>   \n",
       "<span style=\"color: #008080; text-decoration-color: #008080; font-weight: bold\">2</span>                        <span style=\"color: #008080; text-decoration-color: #008080; font-weight: bold\">0</span>         <span style=\"color: #008080; text-decoration-color: #008080; font-weight: bold\">0.0</span>   \n",
       "<span style=\"color: #008080; text-decoration-color: #008080; font-weight: bold\">3</span>                        <span style=\"color: #008080; text-decoration-color: #008080; font-weight: bold\">0</span>         <span style=\"color: #008080; text-decoration-color: #008080; font-weight: bold\">0.0</span>   \n",
       "<span style=\"color: #008080; text-decoration-color: #008080; font-weight: bold\">4</span>                        <span style=\"color: #008080; text-decoration-color: #008080; font-weight: bold\">0</span>         <span style=\"color: #008080; text-decoration-color: #008080; font-weight: bold\">0.0</span>   \n",
       "\n",
       "                          zero-shot-chatgpt_response  \n",
       "<span style=\"color: #008080; text-decoration-color: #008080; font-weight: bold\">0</span>  Yes, UT Dallas provides services for students <span style=\"color: #808000; text-decoration-color: #808000\">...</span>  \n",
       "<span style=\"color: #008080; text-decoration-color: #008080; font-weight: bold\">1</span>  In most cases, there is no separate admissions<span style=\"color: #808000; text-decoration-color: #808000\">...</span>  \n",
       "<span style=\"color: #008080; text-decoration-color: #008080; font-weight: bold\">2</span>  As an AI language model, I cannot make persona<span style=\"color: #808000; text-decoration-color: #808000\">...</span>  \n",
       "<span style=\"color: #008080; text-decoration-color: #008080; font-weight: bold\">3</span>  Documentation requirements vary depending on t<span style=\"color: #808000; text-decoration-color: #808000\">...</span>  \n",
       "<span style=\"color: #008080; text-decoration-color: #008080; font-weight: bold\">4</span>  As an AI language model, I do not have informa<span style=\"color: #808000; text-decoration-color: #808000\">...</span>  \n",
       "</pre>\n"
      ],
      "text/plain": [
       "                                            Question  \\\n",
       "\u001b[1;36m0\u001b[0m  Does UT Dallas provide services for students w\u001b[33m...\u001b[0m   \n",
       "\u001b[1;36m1\u001b[0m  Is there a separate admissions procedure for s\u001b[33m...\u001b[0m   \n",
       "\u001b[1;36m2\u001b[0m  Should I send my disability documentation with\u001b[33m...\u001b[0m   \n",
       "\u001b[1;36m3\u001b[0m  What documentation is required to receive disa\u001b[33m...\u001b[0m   \n",
       "\u001b[1;36m4\u001b[0m  Is there a deadline for submitting disability \u001b[33m...\u001b[0m   \n",
       "\n",
       "                                           Answering  \\\n",
       "\u001b[1;36m0\u001b[0m  Yes, accommodations and services are provided \u001b[33m...\u001b[0m   \n",
       "\u001b[1;36m1\u001b[0m  No. The admissions process and criteria are th\u001b[33m...\u001b[0m   \n",
       "\u001b[1;36m2\u001b[0m  No. Documentation should be submitted to ARC o\u001b[33m...\u001b[0m   \n",
       "\u001b[1;36m3\u001b[0m  Students requesting services must provide curr\u001b[33m...\u001b[0m   \n",
       "\u001b[1;36m4\u001b[0m  To ensure that accommodations will be in place\u001b[33m...\u001b[0m   \n",
       "\n",
       "                                                 URL                  Label  \\\n",
       "\u001b[1;36m0\u001b[0m  \u001b[4;94mhttps://accessability.utdallas.edu/student-acc...\u001b[0m  Student Accessibility   \n",
       "\u001b[1;36m1\u001b[0m  \u001b[4;94mhttps://Accessibility.utdallas.edu/student-acc...\u001b[0m  Student Accessibility   \n",
       "\u001b[1;36m2\u001b[0m  \u001b[4;94mhttps://Accessibility.utdallas.edu/student-acc...\u001b[0m  Student Accessibility   \n",
       "\u001b[1;36m3\u001b[0m  \u001b[4;94mhttps://Accessibility.utdallas.edu/student-acc...\u001b[0m  Student Accessibility   \n",
       "\u001b[1;36m4\u001b[0m  \u001b[4;94mhttps://Accessibility.utdallas.edu/student-acc...\u001b[0m  Student Accessibility   \n",
       "\n",
       "   size_of_the_prompt_tokens  number_of_completion_tokens  \\\n",
       "\u001b[1;36m0\u001b[0m                          \u001b[1;36m0\u001b[0m                            \u001b[1;36m0\u001b[0m   \n",
       "\u001b[1;36m1\u001b[0m                          \u001b[1;36m0\u001b[0m                            \u001b[1;36m0\u001b[0m   \n",
       "\u001b[1;36m2\u001b[0m                          \u001b[1;36m0\u001b[0m                            \u001b[1;36m0\u001b[0m   \n",
       "\u001b[1;36m3\u001b[0m                          \u001b[1;36m0\u001b[0m                            \u001b[1;36m0\u001b[0m   \n",
       "\u001b[1;36m4\u001b[0m                          \u001b[1;36m0\u001b[0m                            \u001b[1;36m0\u001b[0m   \n",
       "\n",
       "   number_of_ttotal_tokens  total_cost  \\\n",
       "\u001b[1;36m0\u001b[0m                        \u001b[1;36m0\u001b[0m         \u001b[1;36m0.0\u001b[0m   \n",
       "\u001b[1;36m1\u001b[0m                        \u001b[1;36m0\u001b[0m         \u001b[1;36m0.0\u001b[0m   \n",
       "\u001b[1;36m2\u001b[0m                        \u001b[1;36m0\u001b[0m         \u001b[1;36m0.0\u001b[0m   \n",
       "\u001b[1;36m3\u001b[0m                        \u001b[1;36m0\u001b[0m         \u001b[1;36m0.0\u001b[0m   \n",
       "\u001b[1;36m4\u001b[0m                        \u001b[1;36m0\u001b[0m         \u001b[1;36m0.0\u001b[0m   \n",
       "\n",
       "                          zero-shot-chatgpt_response  \n",
       "\u001b[1;36m0\u001b[0m  Yes, UT Dallas provides services for students \u001b[33m...\u001b[0m  \n",
       "\u001b[1;36m1\u001b[0m  In most cases, there is no separate admissions\u001b[33m...\u001b[0m  \n",
       "\u001b[1;36m2\u001b[0m  As an AI language model, I cannot make persona\u001b[33m...\u001b[0m  \n",
       "\u001b[1;36m3\u001b[0m  Documentation requirements vary depending on t\u001b[33m...\u001b[0m  \n",
       "\u001b[1;36m4\u001b[0m  As an AI language model, I do not have informa\u001b[33m...\u001b[0m  \n"
      ]
     },
     "metadata": {},
     "output_type": "display_data"
    }
   ],
   "source": [
    "import pandas as pd\n",
    "from rich import print\n",
    "evalution_dataframe = pd.read_csv(\"faq.csv\")\n",
    "print(evalution_dataframe.head())"
   ]
  },
  {
   "attachments": {},
   "cell_type": "markdown",
   "metadata": {},
   "source": [
    "# Store the ChatGPT Response"
   ]
  },
  {
   "cell_type": "code",
   "execution_count": 19,
   "metadata": {},
   "outputs": [
    {
     "name": "stderr",
     "output_type": "stream",
     "text": [
      "/tmp/ipykernel_21192/1319624447.py:15: TqdmExperimentalWarning: Using `tqdm.autonotebook.tqdm` in notebook mode. Use `tqdm.tqdm` instead to force console mode (e.g. in jupyter console)\n",
      "  from tqdm.autonotebook import tqdm\n"
     ]
    }
   ],
   "source": [
    "from langchain.callbacks import get_openai_callback\n",
    "#df[\"zero-shot-chatgpt\"] = df[\"Question\"].apply(lambda x: chat([HumanMessage(content=x)]).content)\n",
    "## Pandas Mapping Function\n",
    "def count_token_cost_get_chatGpt_response(question):\n",
    "    with get_openai_callback() as cb:    \n",
    "        response = chat([HumanMessage(content=question)]).content\n",
    "        size_of_the_prompt_tokens = cb.prompt_tokens\n",
    "        number_of_completion_tokens = cb.completion_tokens\n",
    "        number_of_ttotal_tokens = cb.total_tokens\n",
    "        total_cost = cb.total_cost\n",
    "        #print(f\"size_of_the_prompt_tokens: {size_of_the_prompt_tokens} , number_of_completion_tokens: {number_of_completion_tokens} , number_of_ttotal_tokens: {number_of_ttotal_tokens} , total_cost: {total_cost} , response: {response}\")\n",
    "        return size_of_the_prompt_tokens , number_of_completion_tokens , number_of_ttotal_tokens , total_cost , response\n",
    "## Progress Bar\n",
    "#evalution_dataframe[\"size_of_the_prompt_tokens\"] , evalution_dataframe[\"number_of_completion_tokens\"] , evalution_dataframe[\"number_of_ttotal_tokens\"] , evalution_dataframe[\"total_cost\"] , evalution_dataframe[\"zero-shot-chatgpt_response\"] = zip(*evalution_dataframe[\"Question\"].map(count_token_cost_get_chatGpt_response))\n",
    "from tqdm.autonotebook import tqdm\n",
    "tqdm.pandas()\n",
    "        "
   ]
  },
  {
   "cell_type": "code",
   "execution_count": 20,
   "metadata": {},
   "outputs": [],
   "source": [
    "# only add the zero-shot-chatgpt_response column if not present\n",
    "if \"zero-shot-chatgpt_response\" not in evalution_dataframe.columns:\n",
    "    evalution_dataframe[\"size_of_the_prompt_tokens\"] , evalution_dataframe[\"number_of_completion_tokens\"] , evalution_dataframe[\"number_of_ttotal_tokens\"] , evalution_dataframe[\"total_cost\"] , evalution_dataframe[\"zero-shot-chatgpt_response\"] = zip(*evalution_dataframe[\"Question\"].map(count_token_cost_get_chatGpt_response))"
   ]
  },
  {
   "cell_type": "code",
   "execution_count": 21,
   "metadata": {},
   "outputs": [
    {
     "data": {
      "text/html": [
       "<pre style=\"white-space:pre;overflow-x:auto;line-height:normal;font-family:Menlo,'DejaVu Sans Mono',consolas,'Courier New',monospace\">                                            Question  \\\n",
       "<span style=\"color: #008080; text-decoration-color: #008080; font-weight: bold\">0</span>  Does UT Dallas provide services for students w<span style=\"color: #808000; text-decoration-color: #808000\">...</span>   \n",
       "<span style=\"color: #008080; text-decoration-color: #008080; font-weight: bold\">1</span>  Is there a separate admissions procedure for s<span style=\"color: #808000; text-decoration-color: #808000\">...</span>   \n",
       "<span style=\"color: #008080; text-decoration-color: #008080; font-weight: bold\">2</span>  Should I send my disability documentation with<span style=\"color: #808000; text-decoration-color: #808000\">...</span>   \n",
       "<span style=\"color: #008080; text-decoration-color: #008080; font-weight: bold\">3</span>  What documentation is required to receive disa<span style=\"color: #808000; text-decoration-color: #808000\">...</span>   \n",
       "<span style=\"color: #008080; text-decoration-color: #008080; font-weight: bold\">4</span>  Is there a deadline for submitting disability <span style=\"color: #808000; text-decoration-color: #808000\">...</span>   \n",
       "\n",
       "                                           Answering  \\\n",
       "<span style=\"color: #008080; text-decoration-color: #008080; font-weight: bold\">0</span>  Yes, accommodations and services are provided <span style=\"color: #808000; text-decoration-color: #808000\">...</span>   \n",
       "<span style=\"color: #008080; text-decoration-color: #008080; font-weight: bold\">1</span>  No. The admissions process and criteria are th<span style=\"color: #808000; text-decoration-color: #808000\">...</span>   \n",
       "<span style=\"color: #008080; text-decoration-color: #008080; font-weight: bold\">2</span>  No. Documentation should be submitted to ARC o<span style=\"color: #808000; text-decoration-color: #808000\">...</span>   \n",
       "<span style=\"color: #008080; text-decoration-color: #008080; font-weight: bold\">3</span>  Students requesting services must provide curr<span style=\"color: #808000; text-decoration-color: #808000\">...</span>   \n",
       "<span style=\"color: #008080; text-decoration-color: #008080; font-weight: bold\">4</span>  To ensure that accommodations will be in place<span style=\"color: #808000; text-decoration-color: #808000\">...</span>   \n",
       "\n",
       "                                                 URL                  Label  \\\n",
       "<span style=\"color: #008080; text-decoration-color: #008080; font-weight: bold\">0</span>  <span style=\"color: #0000ff; text-decoration-color: #0000ff; text-decoration: underline\">https://accessability.utdallas.edu/student-acc...</span>  Student Accessibility   \n",
       "<span style=\"color: #008080; text-decoration-color: #008080; font-weight: bold\">1</span>  <span style=\"color: #0000ff; text-decoration-color: #0000ff; text-decoration: underline\">https://Accessibility.utdallas.edu/student-acc...</span>  Student Accessibility   \n",
       "<span style=\"color: #008080; text-decoration-color: #008080; font-weight: bold\">2</span>  <span style=\"color: #0000ff; text-decoration-color: #0000ff; text-decoration: underline\">https://Accessibility.utdallas.edu/student-acc...</span>  Student Accessibility   \n",
       "<span style=\"color: #008080; text-decoration-color: #008080; font-weight: bold\">3</span>  <span style=\"color: #0000ff; text-decoration-color: #0000ff; text-decoration: underline\">https://Accessibility.utdallas.edu/student-acc...</span>  Student Accessibility   \n",
       "<span style=\"color: #008080; text-decoration-color: #008080; font-weight: bold\">4</span>  <span style=\"color: #0000ff; text-decoration-color: #0000ff; text-decoration: underline\">https://Accessibility.utdallas.edu/student-acc...</span>  Student Accessibility   \n",
       "\n",
       "   size_of_the_prompt_tokens  number_of_completion_tokens  \\\n",
       "<span style=\"color: #008080; text-decoration-color: #008080; font-weight: bold\">0</span>                          <span style=\"color: #008080; text-decoration-color: #008080; font-weight: bold\">0</span>                            <span style=\"color: #008080; text-decoration-color: #008080; font-weight: bold\">0</span>   \n",
       "<span style=\"color: #008080; text-decoration-color: #008080; font-weight: bold\">1</span>                          <span style=\"color: #008080; text-decoration-color: #008080; font-weight: bold\">0</span>                            <span style=\"color: #008080; text-decoration-color: #008080; font-weight: bold\">0</span>   \n",
       "<span style=\"color: #008080; text-decoration-color: #008080; font-weight: bold\">2</span>                          <span style=\"color: #008080; text-decoration-color: #008080; font-weight: bold\">0</span>                            <span style=\"color: #008080; text-decoration-color: #008080; font-weight: bold\">0</span>   \n",
       "<span style=\"color: #008080; text-decoration-color: #008080; font-weight: bold\">3</span>                          <span style=\"color: #008080; text-decoration-color: #008080; font-weight: bold\">0</span>                            <span style=\"color: #008080; text-decoration-color: #008080; font-weight: bold\">0</span>   \n",
       "<span style=\"color: #008080; text-decoration-color: #008080; font-weight: bold\">4</span>                          <span style=\"color: #008080; text-decoration-color: #008080; font-weight: bold\">0</span>                            <span style=\"color: #008080; text-decoration-color: #008080; font-weight: bold\">0</span>   \n",
       "\n",
       "   number_of_ttotal_tokens  total_cost  \\\n",
       "<span style=\"color: #008080; text-decoration-color: #008080; font-weight: bold\">0</span>                        <span style=\"color: #008080; text-decoration-color: #008080; font-weight: bold\">0</span>         <span style=\"color: #008080; text-decoration-color: #008080; font-weight: bold\">0.0</span>   \n",
       "<span style=\"color: #008080; text-decoration-color: #008080; font-weight: bold\">1</span>                        <span style=\"color: #008080; text-decoration-color: #008080; font-weight: bold\">0</span>         <span style=\"color: #008080; text-decoration-color: #008080; font-weight: bold\">0.0</span>   \n",
       "<span style=\"color: #008080; text-decoration-color: #008080; font-weight: bold\">2</span>                        <span style=\"color: #008080; text-decoration-color: #008080; font-weight: bold\">0</span>         <span style=\"color: #008080; text-decoration-color: #008080; font-weight: bold\">0.0</span>   \n",
       "<span style=\"color: #008080; text-decoration-color: #008080; font-weight: bold\">3</span>                        <span style=\"color: #008080; text-decoration-color: #008080; font-weight: bold\">0</span>         <span style=\"color: #008080; text-decoration-color: #008080; font-weight: bold\">0.0</span>   \n",
       "<span style=\"color: #008080; text-decoration-color: #008080; font-weight: bold\">4</span>                        <span style=\"color: #008080; text-decoration-color: #008080; font-weight: bold\">0</span>         <span style=\"color: #008080; text-decoration-color: #008080; font-weight: bold\">0.0</span>   \n",
       "\n",
       "                          zero-shot-chatgpt_response  \n",
       "<span style=\"color: #008080; text-decoration-color: #008080; font-weight: bold\">0</span>  Yes, UT Dallas provides services for students <span style=\"color: #808000; text-decoration-color: #808000\">...</span>  \n",
       "<span style=\"color: #008080; text-decoration-color: #008080; font-weight: bold\">1</span>  In most cases, there is no separate admissions<span style=\"color: #808000; text-decoration-color: #808000\">...</span>  \n",
       "<span style=\"color: #008080; text-decoration-color: #008080; font-weight: bold\">2</span>  As an AI language model, I cannot make persona<span style=\"color: #808000; text-decoration-color: #808000\">...</span>  \n",
       "<span style=\"color: #008080; text-decoration-color: #008080; font-weight: bold\">3</span>  Documentation requirements vary depending on t<span style=\"color: #808000; text-decoration-color: #808000\">...</span>  \n",
       "<span style=\"color: #008080; text-decoration-color: #008080; font-weight: bold\">4</span>  As an AI language model, I do not have informa<span style=\"color: #808000; text-decoration-color: #808000\">...</span>  \n",
       "</pre>\n"
      ],
      "text/plain": [
       "                                            Question  \\\n",
       "\u001b[1;36m0\u001b[0m  Does UT Dallas provide services for students w\u001b[33m...\u001b[0m   \n",
       "\u001b[1;36m1\u001b[0m  Is there a separate admissions procedure for s\u001b[33m...\u001b[0m   \n",
       "\u001b[1;36m2\u001b[0m  Should I send my disability documentation with\u001b[33m...\u001b[0m   \n",
       "\u001b[1;36m3\u001b[0m  What documentation is required to receive disa\u001b[33m...\u001b[0m   \n",
       "\u001b[1;36m4\u001b[0m  Is there a deadline for submitting disability \u001b[33m...\u001b[0m   \n",
       "\n",
       "                                           Answering  \\\n",
       "\u001b[1;36m0\u001b[0m  Yes, accommodations and services are provided \u001b[33m...\u001b[0m   \n",
       "\u001b[1;36m1\u001b[0m  No. The admissions process and criteria are th\u001b[33m...\u001b[0m   \n",
       "\u001b[1;36m2\u001b[0m  No. Documentation should be submitted to ARC o\u001b[33m...\u001b[0m   \n",
       "\u001b[1;36m3\u001b[0m  Students requesting services must provide curr\u001b[33m...\u001b[0m   \n",
       "\u001b[1;36m4\u001b[0m  To ensure that accommodations will be in place\u001b[33m...\u001b[0m   \n",
       "\n",
       "                                                 URL                  Label  \\\n",
       "\u001b[1;36m0\u001b[0m  \u001b[4;94mhttps://accessability.utdallas.edu/student-acc...\u001b[0m  Student Accessibility   \n",
       "\u001b[1;36m1\u001b[0m  \u001b[4;94mhttps://Accessibility.utdallas.edu/student-acc...\u001b[0m  Student Accessibility   \n",
       "\u001b[1;36m2\u001b[0m  \u001b[4;94mhttps://Accessibility.utdallas.edu/student-acc...\u001b[0m  Student Accessibility   \n",
       "\u001b[1;36m3\u001b[0m  \u001b[4;94mhttps://Accessibility.utdallas.edu/student-acc...\u001b[0m  Student Accessibility   \n",
       "\u001b[1;36m4\u001b[0m  \u001b[4;94mhttps://Accessibility.utdallas.edu/student-acc...\u001b[0m  Student Accessibility   \n",
       "\n",
       "   size_of_the_prompt_tokens  number_of_completion_tokens  \\\n",
       "\u001b[1;36m0\u001b[0m                          \u001b[1;36m0\u001b[0m                            \u001b[1;36m0\u001b[0m   \n",
       "\u001b[1;36m1\u001b[0m                          \u001b[1;36m0\u001b[0m                            \u001b[1;36m0\u001b[0m   \n",
       "\u001b[1;36m2\u001b[0m                          \u001b[1;36m0\u001b[0m                            \u001b[1;36m0\u001b[0m   \n",
       "\u001b[1;36m3\u001b[0m                          \u001b[1;36m0\u001b[0m                            \u001b[1;36m0\u001b[0m   \n",
       "\u001b[1;36m4\u001b[0m                          \u001b[1;36m0\u001b[0m                            \u001b[1;36m0\u001b[0m   \n",
       "\n",
       "   number_of_ttotal_tokens  total_cost  \\\n",
       "\u001b[1;36m0\u001b[0m                        \u001b[1;36m0\u001b[0m         \u001b[1;36m0.0\u001b[0m   \n",
       "\u001b[1;36m1\u001b[0m                        \u001b[1;36m0\u001b[0m         \u001b[1;36m0.0\u001b[0m   \n",
       "\u001b[1;36m2\u001b[0m                        \u001b[1;36m0\u001b[0m         \u001b[1;36m0.0\u001b[0m   \n",
       "\u001b[1;36m3\u001b[0m                        \u001b[1;36m0\u001b[0m         \u001b[1;36m0.0\u001b[0m   \n",
       "\u001b[1;36m4\u001b[0m                        \u001b[1;36m0\u001b[0m         \u001b[1;36m0.0\u001b[0m   \n",
       "\n",
       "                          zero-shot-chatgpt_response  \n",
       "\u001b[1;36m0\u001b[0m  Yes, UT Dallas provides services for students \u001b[33m...\u001b[0m  \n",
       "\u001b[1;36m1\u001b[0m  In most cases, there is no separate admissions\u001b[33m...\u001b[0m  \n",
       "\u001b[1;36m2\u001b[0m  As an AI language model, I cannot make persona\u001b[33m...\u001b[0m  \n",
       "\u001b[1;36m3\u001b[0m  Documentation requirements vary depending on t\u001b[33m...\u001b[0m  \n",
       "\u001b[1;36m4\u001b[0m  As an AI language model, I do not have informa\u001b[33m...\u001b[0m  \n"
      ]
     },
     "metadata": {},
     "output_type": "display_data"
    }
   ],
   "source": [
    "print(evalution_dataframe.head())"
   ]
  },
  {
   "attachments": {},
   "cell_type": "markdown",
   "metadata": {},
   "source": [
    "## Save the ChatGPT Response into a new csv file called chatgpt_response.csv"
   ]
  },
  {
   "cell_type": "code",
   "execution_count": 22,
   "metadata": {},
   "outputs": [],
   "source": [
    "import pandas as pd\n",
    "file_path = \"faq_with_chatgpt.csv\"\n",
    "if \"zero-shot-chatgpt_response\" not in pd.read_csv(file_path).columns:\n",
    "    evalution_dataframe.dropna(inplace=True)\n",
    "    evalution_dataframe.to_csv(\"faq_with_chatgpt.csv\" , index=False)\n",
    "    evalution_dataframe.to_csv(\"faq.csv\" , index=False)"
   ]
  },
  {
   "cell_type": "code",
   "execution_count": 23,
   "metadata": {},
   "outputs": [
    {
     "data": {
      "text/html": [
       "<pre style=\"white-space:pre;overflow-x:auto;line-height:normal;font-family:Menlo,'DejaVu Sans Mono',consolas,'Courier New',monospace\">                                            Question  \\\n",
       "<span style=\"color: #008080; text-decoration-color: #008080; font-weight: bold\">0</span>  Does UT Dallas provide services for students w<span style=\"color: #808000; text-decoration-color: #808000\">...</span>   \n",
       "<span style=\"color: #008080; text-decoration-color: #008080; font-weight: bold\">1</span>  Is there a separate admissions procedure for s<span style=\"color: #808000; text-decoration-color: #808000\">...</span>   \n",
       "<span style=\"color: #008080; text-decoration-color: #008080; font-weight: bold\">2</span>  Should I send my disability documentation with<span style=\"color: #808000; text-decoration-color: #808000\">...</span>   \n",
       "<span style=\"color: #008080; text-decoration-color: #008080; font-weight: bold\">3</span>  What documentation is required to receive disa<span style=\"color: #808000; text-decoration-color: #808000\">...</span>   \n",
       "<span style=\"color: #008080; text-decoration-color: #008080; font-weight: bold\">4</span>  Is there a deadline for submitting disability <span style=\"color: #808000; text-decoration-color: #808000\">...</span>   \n",
       "\n",
       "                                           Answering  \\\n",
       "<span style=\"color: #008080; text-decoration-color: #008080; font-weight: bold\">0</span>  Yes, accommodations and services are provided <span style=\"color: #808000; text-decoration-color: #808000\">...</span>   \n",
       "<span style=\"color: #008080; text-decoration-color: #008080; font-weight: bold\">1</span>  No. The admissions process and criteria are th<span style=\"color: #808000; text-decoration-color: #808000\">...</span>   \n",
       "<span style=\"color: #008080; text-decoration-color: #008080; font-weight: bold\">2</span>  No. Documentation should be submitted to ARC o<span style=\"color: #808000; text-decoration-color: #808000\">...</span>   \n",
       "<span style=\"color: #008080; text-decoration-color: #008080; font-weight: bold\">3</span>  Students requesting services must provide curr<span style=\"color: #808000; text-decoration-color: #808000\">...</span>   \n",
       "<span style=\"color: #008080; text-decoration-color: #008080; font-weight: bold\">4</span>  To ensure that accommodations will be in place<span style=\"color: #808000; text-decoration-color: #808000\">...</span>   \n",
       "\n",
       "                                                 URL                  Label  \\\n",
       "<span style=\"color: #008080; text-decoration-color: #008080; font-weight: bold\">0</span>  <span style=\"color: #0000ff; text-decoration-color: #0000ff; text-decoration: underline\">https://accessability.utdallas.edu/student-acc...</span>  Student Accessibility   \n",
       "<span style=\"color: #008080; text-decoration-color: #008080; font-weight: bold\">1</span>  <span style=\"color: #0000ff; text-decoration-color: #0000ff; text-decoration: underline\">https://Accessibility.utdallas.edu/student-acc...</span>  Student Accessibility   \n",
       "<span style=\"color: #008080; text-decoration-color: #008080; font-weight: bold\">2</span>  <span style=\"color: #0000ff; text-decoration-color: #0000ff; text-decoration: underline\">https://Accessibility.utdallas.edu/student-acc...</span>  Student Accessibility   \n",
       "<span style=\"color: #008080; text-decoration-color: #008080; font-weight: bold\">3</span>  <span style=\"color: #0000ff; text-decoration-color: #0000ff; text-decoration: underline\">https://Accessibility.utdallas.edu/student-acc...</span>  Student Accessibility   \n",
       "<span style=\"color: #008080; text-decoration-color: #008080; font-weight: bold\">4</span>  <span style=\"color: #0000ff; text-decoration-color: #0000ff; text-decoration: underline\">https://Accessibility.utdallas.edu/student-acc...</span>  Student Accessibility   \n",
       "\n",
       "   size_of_the_prompt_tokens  number_of_completion_tokens  \\\n",
       "<span style=\"color: #008080; text-decoration-color: #008080; font-weight: bold\">0</span>                          <span style=\"color: #008080; text-decoration-color: #008080; font-weight: bold\">0</span>                            <span style=\"color: #008080; text-decoration-color: #008080; font-weight: bold\">0</span>   \n",
       "<span style=\"color: #008080; text-decoration-color: #008080; font-weight: bold\">1</span>                          <span style=\"color: #008080; text-decoration-color: #008080; font-weight: bold\">0</span>                            <span style=\"color: #008080; text-decoration-color: #008080; font-weight: bold\">0</span>   \n",
       "<span style=\"color: #008080; text-decoration-color: #008080; font-weight: bold\">2</span>                          <span style=\"color: #008080; text-decoration-color: #008080; font-weight: bold\">0</span>                            <span style=\"color: #008080; text-decoration-color: #008080; font-weight: bold\">0</span>   \n",
       "<span style=\"color: #008080; text-decoration-color: #008080; font-weight: bold\">3</span>                          <span style=\"color: #008080; text-decoration-color: #008080; font-weight: bold\">0</span>                            <span style=\"color: #008080; text-decoration-color: #008080; font-weight: bold\">0</span>   \n",
       "<span style=\"color: #008080; text-decoration-color: #008080; font-weight: bold\">4</span>                          <span style=\"color: #008080; text-decoration-color: #008080; font-weight: bold\">0</span>                            <span style=\"color: #008080; text-decoration-color: #008080; font-weight: bold\">0</span>   \n",
       "\n",
       "   number_of_ttotal_tokens  total_cost  \\\n",
       "<span style=\"color: #008080; text-decoration-color: #008080; font-weight: bold\">0</span>                        <span style=\"color: #008080; text-decoration-color: #008080; font-weight: bold\">0</span>         <span style=\"color: #008080; text-decoration-color: #008080; font-weight: bold\">0.0</span>   \n",
       "<span style=\"color: #008080; text-decoration-color: #008080; font-weight: bold\">1</span>                        <span style=\"color: #008080; text-decoration-color: #008080; font-weight: bold\">0</span>         <span style=\"color: #008080; text-decoration-color: #008080; font-weight: bold\">0.0</span>   \n",
       "<span style=\"color: #008080; text-decoration-color: #008080; font-weight: bold\">2</span>                        <span style=\"color: #008080; text-decoration-color: #008080; font-weight: bold\">0</span>         <span style=\"color: #008080; text-decoration-color: #008080; font-weight: bold\">0.0</span>   \n",
       "<span style=\"color: #008080; text-decoration-color: #008080; font-weight: bold\">3</span>                        <span style=\"color: #008080; text-decoration-color: #008080; font-weight: bold\">0</span>         <span style=\"color: #008080; text-decoration-color: #008080; font-weight: bold\">0.0</span>   \n",
       "<span style=\"color: #008080; text-decoration-color: #008080; font-weight: bold\">4</span>                        <span style=\"color: #008080; text-decoration-color: #008080; font-weight: bold\">0</span>         <span style=\"color: #008080; text-decoration-color: #008080; font-weight: bold\">0.0</span>   \n",
       "\n",
       "                          zero-shot-chatgpt_response  \n",
       "<span style=\"color: #008080; text-decoration-color: #008080; font-weight: bold\">0</span>  Yes, UT Dallas provides services for students <span style=\"color: #808000; text-decoration-color: #808000\">...</span>  \n",
       "<span style=\"color: #008080; text-decoration-color: #008080; font-weight: bold\">1</span>  In most cases, there is no separate admissions<span style=\"color: #808000; text-decoration-color: #808000\">...</span>  \n",
       "<span style=\"color: #008080; text-decoration-color: #008080; font-weight: bold\">2</span>  As an AI language model, I cannot make persona<span style=\"color: #808000; text-decoration-color: #808000\">...</span>  \n",
       "<span style=\"color: #008080; text-decoration-color: #008080; font-weight: bold\">3</span>  Documentation requirements vary depending on t<span style=\"color: #808000; text-decoration-color: #808000\">...</span>  \n",
       "<span style=\"color: #008080; text-decoration-color: #008080; font-weight: bold\">4</span>  As an AI language model, I do not have informa<span style=\"color: #808000; text-decoration-color: #808000\">...</span>  \n",
       "</pre>\n"
      ],
      "text/plain": [
       "                                            Question  \\\n",
       "\u001b[1;36m0\u001b[0m  Does UT Dallas provide services for students w\u001b[33m...\u001b[0m   \n",
       "\u001b[1;36m1\u001b[0m  Is there a separate admissions procedure for s\u001b[33m...\u001b[0m   \n",
       "\u001b[1;36m2\u001b[0m  Should I send my disability documentation with\u001b[33m...\u001b[0m   \n",
       "\u001b[1;36m3\u001b[0m  What documentation is required to receive disa\u001b[33m...\u001b[0m   \n",
       "\u001b[1;36m4\u001b[0m  Is there a deadline for submitting disability \u001b[33m...\u001b[0m   \n",
       "\n",
       "                                           Answering  \\\n",
       "\u001b[1;36m0\u001b[0m  Yes, accommodations and services are provided \u001b[33m...\u001b[0m   \n",
       "\u001b[1;36m1\u001b[0m  No. The admissions process and criteria are th\u001b[33m...\u001b[0m   \n",
       "\u001b[1;36m2\u001b[0m  No. Documentation should be submitted to ARC o\u001b[33m...\u001b[0m   \n",
       "\u001b[1;36m3\u001b[0m  Students requesting services must provide curr\u001b[33m...\u001b[0m   \n",
       "\u001b[1;36m4\u001b[0m  To ensure that accommodations will be in place\u001b[33m...\u001b[0m   \n",
       "\n",
       "                                                 URL                  Label  \\\n",
       "\u001b[1;36m0\u001b[0m  \u001b[4;94mhttps://accessability.utdallas.edu/student-acc...\u001b[0m  Student Accessibility   \n",
       "\u001b[1;36m1\u001b[0m  \u001b[4;94mhttps://Accessibility.utdallas.edu/student-acc...\u001b[0m  Student Accessibility   \n",
       "\u001b[1;36m2\u001b[0m  \u001b[4;94mhttps://Accessibility.utdallas.edu/student-acc...\u001b[0m  Student Accessibility   \n",
       "\u001b[1;36m3\u001b[0m  \u001b[4;94mhttps://Accessibility.utdallas.edu/student-acc...\u001b[0m  Student Accessibility   \n",
       "\u001b[1;36m4\u001b[0m  \u001b[4;94mhttps://Accessibility.utdallas.edu/student-acc...\u001b[0m  Student Accessibility   \n",
       "\n",
       "   size_of_the_prompt_tokens  number_of_completion_tokens  \\\n",
       "\u001b[1;36m0\u001b[0m                          \u001b[1;36m0\u001b[0m                            \u001b[1;36m0\u001b[0m   \n",
       "\u001b[1;36m1\u001b[0m                          \u001b[1;36m0\u001b[0m                            \u001b[1;36m0\u001b[0m   \n",
       "\u001b[1;36m2\u001b[0m                          \u001b[1;36m0\u001b[0m                            \u001b[1;36m0\u001b[0m   \n",
       "\u001b[1;36m3\u001b[0m                          \u001b[1;36m0\u001b[0m                            \u001b[1;36m0\u001b[0m   \n",
       "\u001b[1;36m4\u001b[0m                          \u001b[1;36m0\u001b[0m                            \u001b[1;36m0\u001b[0m   \n",
       "\n",
       "   number_of_ttotal_tokens  total_cost  \\\n",
       "\u001b[1;36m0\u001b[0m                        \u001b[1;36m0\u001b[0m         \u001b[1;36m0.0\u001b[0m   \n",
       "\u001b[1;36m1\u001b[0m                        \u001b[1;36m0\u001b[0m         \u001b[1;36m0.0\u001b[0m   \n",
       "\u001b[1;36m2\u001b[0m                        \u001b[1;36m0\u001b[0m         \u001b[1;36m0.0\u001b[0m   \n",
       "\u001b[1;36m3\u001b[0m                        \u001b[1;36m0\u001b[0m         \u001b[1;36m0.0\u001b[0m   \n",
       "\u001b[1;36m4\u001b[0m                        \u001b[1;36m0\u001b[0m         \u001b[1;36m0.0\u001b[0m   \n",
       "\n",
       "                          zero-shot-chatgpt_response  \n",
       "\u001b[1;36m0\u001b[0m  Yes, UT Dallas provides services for students \u001b[33m...\u001b[0m  \n",
       "\u001b[1;36m1\u001b[0m  In most cases, there is no separate admissions\u001b[33m...\u001b[0m  \n",
       "\u001b[1;36m2\u001b[0m  As an AI language model, I cannot make persona\u001b[33m...\u001b[0m  \n",
       "\u001b[1;36m3\u001b[0m  Documentation requirements vary depending on t\u001b[33m...\u001b[0m  \n",
       "\u001b[1;36m4\u001b[0m  As an AI language model, I do not have informa\u001b[33m...\u001b[0m  \n"
      ]
     },
     "metadata": {},
     "output_type": "display_data"
    }
   ],
   "source": [
    "print(evalution_dataframe.head())"
   ]
  },
  {
   "cell_type": "code",
   "execution_count": 24,
   "metadata": {},
   "outputs": [
    {
     "data": {
      "text/html": [
       "<pre style=\"white-space:pre;overflow-x:auto;line-height:normal;font-family:Menlo,'DejaVu Sans Mono',consolas,'Courier New',monospace\"><span style=\"font-weight: bold\">(</span><span style=\"color: #008080; text-decoration-color: #008080; font-weight: bold\">150</span>, <span style=\"color: #008080; text-decoration-color: #008080; font-weight: bold\">9</span><span style=\"font-weight: bold\">)</span>\n",
       "</pre>\n"
      ],
      "text/plain": [
       "\u001b[1m(\u001b[0m\u001b[1;36m150\u001b[0m, \u001b[1;36m9\u001b[0m\u001b[1m)\u001b[0m\n"
      ]
     },
     "metadata": {},
     "output_type": "display_data"
    },
    {
     "data": {
      "text/html": [
       "<pre style=\"white-space:pre;overflow-x:auto;line-height:normal;font-family:Menlo,'DejaVu Sans Mono',consolas,'Courier New',monospace\"><span style=\"font-weight: bold\">(</span><span style=\"color: #008080; text-decoration-color: #008080; font-weight: bold\">150</span>, <span style=\"color: #008080; text-decoration-color: #008080; font-weight: bold\">9</span><span style=\"font-weight: bold\">)</span>\n",
       "</pre>\n"
      ],
      "text/plain": [
       "\u001b[1m(\u001b[0m\u001b[1;36m150\u001b[0m, \u001b[1;36m9\u001b[0m\u001b[1m)\u001b[0m\n"
      ]
     },
     "metadata": {},
     "output_type": "display_data"
    },
    {
     "data": {
      "text/html": [
       "<pre style=\"white-space:pre;overflow-x:auto;line-height:normal;font-family:Menlo,'DejaVu Sans Mono',consolas,'Courier New',monospace\"><span style=\"font-weight: bold\">(</span><span style=\"color: #008080; text-decoration-color: #008080; font-weight: bold\">150</span>, <span style=\"color: #008080; text-decoration-color: #008080; font-weight: bold\">9</span><span style=\"font-weight: bold\">)</span>\n",
       "</pre>\n"
      ],
      "text/plain": [
       "\u001b[1m(\u001b[0m\u001b[1;36m150\u001b[0m, \u001b[1;36m9\u001b[0m\u001b[1m)\u001b[0m\n"
      ]
     },
     "metadata": {},
     "output_type": "display_data"
    }
   ],
   "source": [
    "print(evalution_dataframe.shape)\n",
    "evalution_dataframe.dropna(inplace=True)\n",
    "print(evalution_dataframe.shape)\n",
    "# remove any column that are has Unnamed\n",
    "evalution_dataframe = evalution_dataframe.loc[:, ~evalution_dataframe.columns.str.contains('^Unnamed')]\n",
    "print(evalution_dataframe.shape)"
   ]
  },
  {
   "attachments": {},
   "cell_type": "markdown",
   "metadata": {},
   "source": [
    "# Prompt Templates\n",
    "1. Converting the Question in a QA Propmt which is standard for Quesiton Answering Task\n",
    "2. Set the Prompt Template to have question to be user question and see the response\n",
    "3. Compare the response of the ChatGPT with the Question   with the response of the ChatGPT with the Question and Answer Template"
   ]
  },
  {
   "cell_type": "code",
   "execution_count": 25,
   "metadata": {},
   "outputs": [
    {
     "data": {
      "text/html": [
       "<pre style=\"white-space:pre;overflow-x:auto;line-height:normal;font-family:Menlo,'DejaVu Sans Mono',consolas,'Courier New',monospace\"><span style=\"color: #800080; text-decoration-color: #800080; font-weight: bold\">ChatPromptValue</span><span style=\"font-weight: bold\">(</span>\n",
       "    <span style=\"color: #808000; text-decoration-color: #808000\">messages</span>=<span style=\"font-weight: bold\">[</span>\n",
       "        <span style=\"color: #800080; text-decoration-color: #800080; font-weight: bold\">SystemMessage</span><span style=\"font-weight: bold\">(</span>\n",
       "            <span style=\"color: #808000; text-decoration-color: #808000\">content</span>=<span style=\"color: #008000; text-decoration-color: #008000\">'You are a helpful assistant that University of Texas at Dallas students can ask questions.'</span>,\n",
       "            <span style=\"color: #808000; text-decoration-color: #808000\">additional_kwargs</span>=<span style=\"font-weight: bold\">{}</span>\n",
       "        <span style=\"font-weight: bold\">)</span>,\n",
       "        <span style=\"color: #800080; text-decoration-color: #800080; font-weight: bold\">HumanMessage</span><span style=\"font-weight: bold\">(</span>\n",
       "            <span style=\"color: #808000; text-decoration-color: #808000\">content</span>=<span style=\"color: #008000; text-decoration-color: #008000\">'Q:How do I remove a vehicle from my parking account at University of Texas at Dallas?\\nA:'</span>,\n",
       "            <span style=\"color: #808000; text-decoration-color: #808000\">additional_kwargs</span>=<span style=\"font-weight: bold\">{}</span>\n",
       "        <span style=\"font-weight: bold\">)</span>\n",
       "    <span style=\"font-weight: bold\">]</span>\n",
       "<span style=\"font-weight: bold\">)</span>\n",
       "</pre>\n"
      ],
      "text/plain": [
       "\u001b[1;35mChatPromptValue\u001b[0m\u001b[1m(\u001b[0m\n",
       "    \u001b[33mmessages\u001b[0m=\u001b[1m[\u001b[0m\n",
       "        \u001b[1;35mSystemMessage\u001b[0m\u001b[1m(\u001b[0m\n",
       "            \u001b[33mcontent\u001b[0m=\u001b[32m'You are a helpful assistant that University of Texas at Dallas students can ask questions.'\u001b[0m,\n",
       "            \u001b[33madditional_kwargs\u001b[0m=\u001b[1m{\u001b[0m\u001b[1m}\u001b[0m\n",
       "        \u001b[1m)\u001b[0m,\n",
       "        \u001b[1;35mHumanMessage\u001b[0m\u001b[1m(\u001b[0m\n",
       "            \u001b[33mcontent\u001b[0m=\u001b[32m'Q:How do I remove a vehicle from my parking account at University of Texas at Dallas?\\nA:'\u001b[0m,\n",
       "            \u001b[33madditional_kwargs\u001b[0m=\u001b[1m{\u001b[0m\u001b[1m}\u001b[0m\n",
       "        \u001b[1m)\u001b[0m\n",
       "    \u001b[1m]\u001b[0m\n",
       "\u001b[1m)\u001b[0m\n"
      ]
     },
     "metadata": {},
     "output_type": "display_data"
    }
   ],
   "source": [
    "from langchain.chat_models import ChatOpenAI\n",
    "from langchain.prompts.chat import (\n",
    "    ChatPromptTemplate,\n",
    "    SystemMessagePromptTemplate,\n",
    "    HumanMessagePromptTemplate,\n",
    ")\n",
    "\n",
    "chat = ChatOpenAI(temperature=0)\n",
    "\n",
    "template=\"You are a helpful assistant that University of Texas at Dallas students can ask questions.\"\n",
    "system_message_prompt = SystemMessagePromptTemplate.from_template(template)\n",
    "human_template=\"Q:{question}\\nA:\" # this is the template \n",
    "human_message_prompt = HumanMessagePromptTemplate.from_template(human_template)\n",
    "\n",
    "chat_prompt = ChatPromptTemplate.from_messages([system_message_prompt, human_message_prompt])\n",
    "\n",
    "## Show the prompt\n",
    "print(chat_prompt.format_prompt(question=\"How do I remove a vehicle from my parking account at University of Texas at Dallas?\"))\n"
   ]
  },
  {
   "cell_type": "code",
   "execution_count": 26,
   "metadata": {},
   "outputs": [
    {
     "data": {
      "text/html": [
       "<pre style=\"white-space:pre;overflow-x:auto;line-height:normal;font-family:Menlo,'DejaVu Sans Mono',consolas,'Courier New',monospace\">As an AI language model, I don't have access to personal accounts or information. However, you can follow these \n",
       "steps to remove a vehicle from your parking account at the University of Texas at Dallas:\n",
       "\n",
       "<span style=\"color: #008080; text-decoration-color: #008080; font-weight: bold\">1</span>. Log in to your parking account on the University of Texas at Dallas website.\n",
       "<span style=\"color: #008080; text-decoration-color: #008080; font-weight: bold\">2</span>. Click on the <span style=\"color: #008000; text-decoration-color: #008000\">\"Vehicles\"</span> tab.\n",
       "<span style=\"color: #008080; text-decoration-color: #008080; font-weight: bold\">3</span>. Find the vehicle you want to remove and click on the <span style=\"color: #008000; text-decoration-color: #008000\">\"Remove\"</span> button next to it.\n",
       "<span style=\"color: #008080; text-decoration-color: #008080; font-weight: bold\">4</span>. Confirm that you want to remove the vehicle from your account.\n",
       "<span style=\"color: #008080; text-decoration-color: #008080; font-weight: bold\">5</span>. The vehicle should now be removed from your parking account.\n",
       "\n",
       "If you have any issues or questions, you can contact the University of Texas at Dallas parking office for \n",
       "assistance.\n",
       "</pre>\n"
      ],
      "text/plain": [
       "As an AI language model, I don't have access to personal accounts or information. However, you can follow these \n",
       "steps to remove a vehicle from your parking account at the University of Texas at Dallas:\n",
       "\n",
       "\u001b[1;36m1\u001b[0m. Log in to your parking account on the University of Texas at Dallas website.\n",
       "\u001b[1;36m2\u001b[0m. Click on the \u001b[32m\"Vehicles\"\u001b[0m tab.\n",
       "\u001b[1;36m3\u001b[0m. Find the vehicle you want to remove and click on the \u001b[32m\"Remove\"\u001b[0m button next to it.\n",
       "\u001b[1;36m4\u001b[0m. Confirm that you want to remove the vehicle from your account.\n",
       "\u001b[1;36m5\u001b[0m. The vehicle should now be removed from your parking account.\n",
       "\n",
       "If you have any issues or questions, you can contact the University of Texas at Dallas parking office for \n",
       "assistance.\n"
      ]
     },
     "metadata": {},
     "output_type": "display_data"
    },
    {
     "data": {
      "text/html": [
       "<pre style=\"white-space:pre;overflow-x:auto;line-height:normal;font-family:Menlo,'DejaVu Sans Mono',consolas,'Courier New',monospace\">To remove a vehicle from your parking account at University of Texas at Dallas, you can follow these steps:\n",
       "\n",
       "<span style=\"color: #008080; text-decoration-color: #008080; font-weight: bold\">1</span>. Log in to your parking account on the University of Texas at Dallas website.\n",
       "<span style=\"color: #008080; text-decoration-color: #008080; font-weight: bold\">2</span>. Click on the <span style=\"color: #008000; text-decoration-color: #008000\">\"Vehicles\"</span> tab.\n",
       "<span style=\"color: #008080; text-decoration-color: #008080; font-weight: bold\">3</span>. Find the vehicle you want to remove and click on the <span style=\"color: #008000; text-decoration-color: #008000\">\"Remove\"</span> button next to it.\n",
       "<span style=\"color: #008080; text-decoration-color: #008080; font-weight: bold\">4</span>. Confirm that you want to remove the vehicle from your account.\n",
       "\n",
       "If you have any issues or questions, you can contact the University of Texas at Dallas Parking and Transportation \n",
       "Services office for assistance.\n",
       "</pre>\n"
      ],
      "text/plain": [
       "To remove a vehicle from your parking account at University of Texas at Dallas, you can follow these steps:\n",
       "\n",
       "\u001b[1;36m1\u001b[0m. Log in to your parking account on the University of Texas at Dallas website.\n",
       "\u001b[1;36m2\u001b[0m. Click on the \u001b[32m\"Vehicles\"\u001b[0m tab.\n",
       "\u001b[1;36m3\u001b[0m. Find the vehicle you want to remove and click on the \u001b[32m\"Remove\"\u001b[0m button next to it.\n",
       "\u001b[1;36m4\u001b[0m. Confirm that you want to remove the vehicle from your account.\n",
       "\n",
       "If you have any issues or questions, you can contact the University of Texas at Dallas Parking and Transportation \n",
       "Services office for assistance.\n"
      ]
     },
     "metadata": {},
     "output_type": "display_data"
    }
   ],
   "source": [
    "question = \"How do I remove a vehicle from my parking account at University of Texas at Dallas?\"\n",
    "print(\n",
    "     chat([HumanMessage(content=question)]).content\n",
    ")\n",
    "## The Prompt Template by Adding in QA Format to make the mode betterby c\n",
    "print(chat(\n",
    "    chat_prompt.format_prompt(\n",
    "        question=question,\n",
    "    ).to_messages()\n",
    ").content)"
   ]
  },
  {
   "attachments": {},
   "cell_type": "markdown",
   "metadata": {},
   "source": [
    "# Create a vector Database"
   ]
  },
  {
   "attachments": {},
   "cell_type": "markdown",
   "metadata": {},
   "source": [
    "## Load your CSV files in LangChain CSV Document Loaders"
   ]
  },
  {
   "cell_type": "code",
   "execution_count": 27,
   "metadata": {},
   "outputs": [
    {
     "data": {
      "text/html": [
       "<pre style=\"white-space:pre;overflow-x:auto;line-height:normal;font-family:Menlo,'DejaVu Sans Mono',consolas,'Courier New',monospace\"><span style=\"color: #800080; text-decoration-color: #800080; font-weight: bold\">Document</span><span style=\"font-weight: bold\">(</span>\n",
       "    <span style=\"color: #808000; text-decoration-color: #808000\">page_content</span>=<span style=\"color: #008000; text-decoration-color: #008000\">'Question: Does UT Dallas provide services for students with disabilities?\\nAnswer: Yes, </span>\n",
       "<span style=\"color: #008000; text-decoration-color: #008000\">accommodations and services are provided for students with documented disabilities to provide equal access to </span>\n",
       "<span style=\"color: #008000; text-decoration-color: #008000\">educational programs and services in compliance with Section 504 of the Rehabilitation Act of 1973, the Americans </span>\n",
       "<span style=\"color: #008000; text-decoration-color: #008000\">with Disabilities Act (1990), and UT Dallas policy. \\n\\nThe Accessibility Resource Center (ARC) facilitates the </span>\n",
       "<span style=\"color: #008000; text-decoration-color: #008000\">provision of services and accommodations for students. Accommodations are determined on an individual basis using </span>\n",
       "<span style=\"color: #008000; text-decoration-color: #008000\">the student’s disability documentation and in consultation with the student.'</span>,\n",
       "    <span style=\"color: #808000; text-decoration-color: #808000\">metadata</span>=<span style=\"font-weight: bold\">{</span><span style=\"color: #008000; text-decoration-color: #008000\">'source'</span>: <span style=\"color: #008000; text-decoration-color: #008000\">'faq_that_will_be_used.csv'</span>, <span style=\"color: #008000; text-decoration-color: #008000\">'row'</span>: <span style=\"color: #008080; text-decoration-color: #008080; font-weight: bold\">1</span><span style=\"font-weight: bold\">}</span>\n",
       "<span style=\"font-weight: bold\">)</span>\n",
       "</pre>\n"
      ],
      "text/plain": [
       "\u001b[1;35mDocument\u001b[0m\u001b[1m(\u001b[0m\n",
       "    \u001b[33mpage_content\u001b[0m=\u001b[32m'Question: Does UT Dallas provide services for students with disabilities?\\nAnswer: Yes, \u001b[0m\n",
       "\u001b[32maccommodations and services are provided for students with documented disabilities to provide equal access to \u001b[0m\n",
       "\u001b[32meducational programs and services in compliance with Section 504 of the Rehabilitation Act of 1973, the Americans \u001b[0m\n",
       "\u001b[32mwith Disabilities Act \u001b[0m\u001b[32m(\u001b[0m\u001b[32m1990\u001b[0m\u001b[32m)\u001b[0m\u001b[32m, and UT Dallas policy. \\n\\nThe Accessibility Resource Center \u001b[0m\u001b[32m(\u001b[0m\u001b[32mARC\u001b[0m\u001b[32m)\u001b[0m\u001b[32m facilitates the \u001b[0m\n",
       "\u001b[32mprovision of services and accommodations for students. Accommodations are determined on an individual basis using \u001b[0m\n",
       "\u001b[32mthe student’s disability documentation and in consultation with the student.'\u001b[0m,\n",
       "    \u001b[33mmetadata\u001b[0m=\u001b[1m{\u001b[0m\u001b[32m'source'\u001b[0m: \u001b[32m'faq_that_will_be_used.csv'\u001b[0m, \u001b[32m'row'\u001b[0m: \u001b[1;36m1\u001b[0m\u001b[1m}\u001b[0m\n",
       "\u001b[1m)\u001b[0m\n"
      ]
     },
     "metadata": {},
     "output_type": "display_data"
    }
   ],
   "source": [
    "from langchain.document_loaders.csv_loader import CSVLoader\n",
    "# Read The a CSV File named faq.csv\n",
    "import pandas as pd\n",
    "df = pd.read_csv(\"faq.csv\")\n",
    "## select what columns named Question and Answering\n",
    "df = df[[\"Question\" , \"Answering\"]]\n",
    "df.to_csv(\"faq_that_will_be_used.csv\" , index=False)\n",
    "\n",
    "#from langchain.document_loaders.csv_loader import CSVLoader\n",
    "loader = CSVLoader(file_path='faq_that_will_be_used.csv' ,             csv_args = {\n",
    "                \"delimiter\": \",\",\n",
    "                \"fieldnames\": [\"Question\", \"Answer\"],\n",
    "            })\n",
    "\n",
    "documents = loader.load()\n",
    "print(documents[1])"
   ]
  },
  {
   "attachments": {},
   "cell_type": "markdown",
   "metadata": {},
   "source": [
    "## Load the PDF files in LangChain PDF Document Loaders"
   ]
  },
  {
   "cell_type": "code",
   "execution_count": 32,
   "metadata": {},
   "outputs": [
    {
     "ename": "FileNotFoundError",
     "evalue": "[Errno 2] No such file or directory: '/home/null/AIS/Workshop/pdf'",
     "output_type": "error",
     "traceback": [
      "\u001b[0;31m---------------------------------------------------------------------------\u001b[0m",
      "\u001b[0;31mFileNotFoundError\u001b[0m                         Traceback (most recent call last)",
      "\u001b[1;32m/home/null/AIS/Workshop/langchain.ipynb Cell 52\u001b[0m in \u001b[0;36m4\n\u001b[1;32m      <a href='vscode-notebook-cell:/home/null/AIS/Workshop/langchain.ipynb#Y126sZmlsZQ%3D%3D?line=0'>1</a>\u001b[0m \u001b[39mfrom\u001b[39;00m \u001b[39mlangchain\u001b[39;00m\u001b[39m.\u001b[39;00m\u001b[39mdocument_loaders\u001b[39;00m \u001b[39mimport\u001b[39;00m PyPDFLoader\n\u001b[1;32m      <a href='vscode-notebook-cell:/home/null/AIS/Workshop/langchain.ipynb#Y126sZmlsZQ%3D%3D?line=2'>3</a>\u001b[0m \u001b[39m# RFind aolder names pdf\u001b[39;00m\n\u001b[0;32m----> <a href='vscode-notebook-cell:/home/null/AIS/Workshop/langchain.ipynb#Y126sZmlsZQ%3D%3D?line=3'>4</a>\u001b[0m \u001b[39mfor\u001b[39;00m file \u001b[39min\u001b[39;00m os\u001b[39m.\u001b[39;49mlistdir(os\u001b[39m.\u001b[39;49mpath\u001b[39m.\u001b[39;49mjoin(os\u001b[39m.\u001b[39;49mgetcwd() , \u001b[39m\"\u001b[39;49m\u001b[39mpdf\u001b[39;49m\u001b[39m\"\u001b[39;49m)):\n\u001b[1;32m      <a href='vscode-notebook-cell:/home/null/AIS/Workshop/langchain.ipynb#Y126sZmlsZQ%3D%3D?line=4'>5</a>\u001b[0m     \u001b[39mprint\u001b[39m(file)\n\u001b[1;32m      <a href='vscode-notebook-cell:/home/null/AIS/Workshop/langchain.ipynb#Y126sZmlsZQ%3D%3D?line=5'>6</a>\u001b[0m \u001b[39mfor\u001b[39;00m file \u001b[39min\u001b[39;00m os\u001b[39m.\u001b[39mlistdir(\u001b[39m\"\u001b[39m\u001b[39mpdf\u001b[39m\u001b[39m\"\u001b[39m):\n",
      "\u001b[0;31mFileNotFoundError\u001b[0m: [Errno 2] No such file or directory: '/home/null/AIS/Workshop/pdf'"
     ]
    }
   ],
   "source": [
    "from langchain.document_loaders import PyPDFLoader\n",
    "'''\n",
    "# RFind aolder names pdf\n",
    "for file in os.listdir(os.path.join(os.getcwd() , \"pdf\")):\n",
    "    print(file)\n",
    "for file in os.listdir(\"pdf\"):\n",
    "    loader = PyPDFLoader(file_path=f\"pdf/{file}\")\n",
    "    #documents = loader.load()\n",
    "    #print(documents[1])\n",
    "    print(f\"file: {file} , number of pages: {len(loader.load())}\")\n",
    "'''\n"
   ]
  },
  {
   "attachments": {},
   "cell_type": "markdown",
   "metadata": {},
   "source": [
    "## Load Email from OUtlook"
   ]
  },
  {
   "cell_type": "code",
   "execution_count": null,
   "metadata": {},
   "outputs": [],
   "source": [
    "from langchain.document_loaders import OutlookMessageLoader\n",
    "#Donwload all the emails from outloo"
   ]
  },
  {
   "attachments": {},
   "cell_type": "markdown",
   "metadata": {},
   "source": [
    "## Select the Embdding \n",
    "1. We use the Open text-embedding-ada-002 becuase It’s better, cheaper, and simpler to use."
   ]
  },
  {
   "cell_type": "code",
   "execution_count": 35,
   "metadata": {},
   "outputs": [
    {
     "data": {
      "text/html": [
       "<pre style=\"white-space:pre;overflow-x:auto;line-height:normal;font-family:Menlo,'DejaVu Sans Mono',consolas,'Courier New',monospace\"><span style=\"color: #008080; text-decoration-color: #008080; font-weight: bold\">1536</span>\n",
       "</pre>\n"
      ],
      "text/plain": [
       "\u001b[1;36m1536\u001b[0m\n"
      ]
     },
     "metadata": {},
     "output_type": "display_data"
    }
   ],
   "source": [
    "from langchain.embeddings.openai import OpenAIEmbeddings\n",
    "embeddings = OpenAIEmbeddings(model=\"text-embedding-ada-002\")\n",
    "text = \"This is a test query.\"\n",
    "query_result = embeddings.embed_query(text)\n",
    "print(len(query_result))"
   ]
  },
  {
   "attachments": {},
   "cell_type": "markdown",
   "metadata": {},
   "source": [
    "## Load all your documents in the vector database"
   ]
  },
  {
   "cell_type": "code",
   "execution_count": 36,
   "metadata": {},
   "outputs": [
    {
     "name": "stderr",
     "output_type": "stream",
     "text": [
      "Using embedded DuckDB without persistence: data will be transient\n"
     ]
    }
   ],
   "source": [
    "from langchain.embeddings.openai import OpenAIEmbeddings\n",
    "from langchain.text_splitter import CharacterTextSplitter\n",
    "from langchain.vectorstores import Chroma\n",
    "from langchain.document_loaders import TextLoader\n",
    "db = Chroma.from_documents(documents, embeddings)\n",
    "\n",
    "query = \"My parents are claiming me as a dependent for federal income tax purposes. How do I qualify for Texas residency, or how do they qualify for Texas residency\"\n",
    "docs = db.similarity_search(query)"
   ]
  },
  {
   "cell_type": "code",
   "execution_count": null,
   "metadata": {},
   "outputs": [],
   "source": [
    "def get_question_answer_from_document(document):\n",
    "    question = document[\"Question\"]\n",
    "    answer = document[\"Answer\"]\n",
    "    return question , answer\n",
    "print(docs[0].page_content)"
   ]
  },
  {
   "cell_type": "code",
   "execution_count": null,
   "metadata": {},
   "outputs": [],
   "source": [
    "query = \"What are the qualifications for Texas residency, and what are the requirements for my parents to qualify for Texas residency if they are claiming me as a dependent for federal income tax purposes?\"\n",
    "docs = db.similarity_search(query)\n",
    "print(docs[0].page_content)"
   ]
  },
  {
   "attachments": {},
   "cell_type": "markdown",
   "metadata": {},
   "source": [
    "# Few  Shot Examples use Semanic Search"
   ]
  },
  {
   "cell_type": "code",
   "execution_count": null,
   "metadata": {},
   "outputs": [],
   "source": [
    "from langchain.prompts.example_selector import SemanticSimilarityExampleSelector\n",
    "from langchain.vectorstores import Chroma\n",
    "from langchain.embeddings import OpenAIEmbeddings\n",
    "from langchain.prompts import FewShotPromptTemplate, PromptTemplate\n",
    "\n",
    "examples = []\n",
    "## Iterate over the rows of the dataframe\n",
    "for column , row in df.iterrows():\n",
    "    examples.append(\n",
    "        {\n",
    "            \"question\": row[\"Question\"],\n",
    "            \"answer\": row[\"Answering\"],\n",
    "        }\n",
    "    )\n",
    "sample_selector_vdb = SemanticSimilarityExampleSelector.from_examples(\n",
    "    # This is the list of examples available to select from.\n",
    "    examples,\n",
    "    # This is the embedding class used to produce embeddings which are used to measure semantic similarity.\n",
    "    OpenAIEmbeddings(),\n",
    "    # This is the VectorStore class that is used to store the embeddings and do a similarity search over.\n",
    "    Chroma,\n",
    "    # This is the number of examples to produce.\n",
    "    k = 3\n",
    ")\n",
    "template = \"\"\"\n",
    "Q:{question}\n",
    "A:{answer}\n",
    "\"\"\"\n",
    "initial_prompt = PromptTemplate(\n",
    "    input_variables=[\"question\", \"answer\"],\n",
    "    template=template,\n",
    ")\n",
    "\n",
    "prompt = FewShotPromptTemplate(\n",
    "    example_selector=sample_selector_vdb,\n",
    "    suffix=\"Q:I need help from University of Texas at Dallas for this problem.{user_input_question_query}\\nA:\",\n",
    "    input_variables=[\"user_input_question_query\" ],\n",
    "    example_prompt=initial_prompt,\n",
    "    validate_template = True\n",
    ")"
   ]
  },
  {
   "cell_type": "code",
   "execution_count": null,
   "metadata": {},
   "outputs": [],
   "source": [
    "# https://python.langchain.com/en/latest/modules/prompts/prompt_templates/examples/few_shot_examples.html?highlight=SemanticSimilarityExampleSelector\n",
    "question = \"How do I remove a vehicle from my parking account at University of Texas at Dallas?\"\n",
    "print(\n",
    "    prompt.format(\n",
    "        user_input_question_query=question,\n",
    "    )\n",
    ")"
   ]
  },
  {
   "cell_type": "code",
   "execution_count": null,
   "metadata": {},
   "outputs": [],
   "source": [
    "## The Prompt Template by Adding in QA Format to make the mode betterby c\n",
    "print(chat(\n",
    "    prompt.format_prompt(\n",
    "        user_input_question_query=question,\n",
    "    ).to_messages()\n",
    ").content)"
   ]
  },
  {
   "attachments": {},
   "cell_type": "markdown",
   "metadata": {},
   "source": [
    "# Add Memory to your Prompt"
   ]
  },
  {
   "cell_type": "code",
   "execution_count": null,
   "metadata": {},
   "outputs": [],
   "source": [
    "from langchain.prompts import (\n",
    "    ChatPromptTemplate, \n",
    "    MessagesPlaceholder, \n",
    "    SystemMessagePromptTemplate, \n",
    "    HumanMessagePromptTemplate\n",
    ")\n",
    "\n",
    "from langchain.chains import ConversationChain\n",
    "from langchain.memory import ConversationBufferMemory\n",
    "memory = ConversationBufferMemory(return_messages=True)\n",
    "prompt = ChatPromptTemplate.from_messages([\n",
    "    SystemMessagePromptTemplate.from_template(\"The following is a friendly conversation between a human and an AI. The AI is talkative and provides lots of specific details from its context. If the AI does not know the answer to a question, it truthfully says it does not know.\"),\n",
    "    MessagesPlaceholder(variable_name=\"history\"),\n",
    "    HumanMessagePromptTemplate.from_template(\"{input}\")\n",
    "])\n",
    "conversation = ConversationChain(memory=memory, prompt=prompt, llm = chat)\n"
   ]
  },
  {
   "attachments": {},
   "cell_type": "markdown",
   "metadata": {},
   "source": [
    "# LangChain Agents"
   ]
  },
  {
   "cell_type": "markdown",
   "metadata": {},
   "source": [
    "## React Doc Stores"
   ]
  },
  {
   "cell_type": "code",
   "execution_count": null,
   "metadata": {},
   "outputs": [],
   "source": []
  }
 ],
 "metadata": {
  "kernelspec": {
   "display_name": "google-colab",
   "language": "python",
   "name": "python3"
  },
  "language_info": {
   "codemirror_mode": {
    "name": "ipython",
    "version": 3
   },
   "file_extension": ".py",
   "mimetype": "text/x-python",
   "name": "python",
   "nbconvert_exporter": "python",
   "pygments_lexer": "ipython3",
   "version": "3.10.10"
  },
  "orig_nbformat": 4
 },
 "nbformat": 4,
 "nbformat_minor": 2
}
